{
 "cells": [
  {
   "cell_type": "markdown",
   "metadata": {
    "id": "1lSRDxvnCM0Q"
   },
   "source": [
    "#**Import Libraries, Models ...**"
   ]
  },
  {
   "cell_type": "code",
   "execution_count": 5,
   "metadata": {
    "id": "G0Ra7yw47YU7"
   },
   "outputs": [],
   "source": [
    "import numpy as np\n",
    "import matplotlib.pyplot as plt\n",
    "import pandas as pd\n",
    "import seaborn as sns\n",
    "from sklearn.preprocessing import PolynomialFeatures\n",
    "from sklearn.model_selection import train_test_split\n",
    "from sklearn import preprocessing\n",
    "from sklearn.metrics import mean_squared_error, mean_absolute_error\n",
    "from sklearn.tree import DecisionTreeClassifier\n",
    "from sklearn.svm import SVR\n",
    "from sklearn.linear_model import LinearRegression\n",
    "from sklearn.model_selection import learning_curve\n",
    "from sklearn.preprocessing import PolynomialFeatures\n",
    "from sklearn.pipeline import make_pipeline"
   ]
  },
  {
   "cell_type": "markdown",
   "metadata": {
    "id": "VVSaQx2m9Bse"
   },
   "source": [
    "#**1 - Read datasets**"
   ]
  },
  {
   "cell_type": "code",
   "execution_count": 6,
   "metadata": {
    "colab": {
     "base_uri": "https://localhost:8080/",
     "height": 423
    },
    "id": "DqkLbctB63Oc",
    "outputId": "35eca036-0b67-45d8-d094-ac7b0ca77997"
   },
   "outputs": [
    {
     "data": {
      "text/html": [
       "<div>\n",
       "<style scoped>\n",
       "    .dataframe tbody tr th:only-of-type {\n",
       "        vertical-align: middle;\n",
       "    }\n",
       "\n",
       "    .dataframe tbody tr th {\n",
       "        vertical-align: top;\n",
       "    }\n",
       "\n",
       "    .dataframe thead th {\n",
       "        text-align: right;\n",
       "    }\n",
       "</style>\n",
       "<table border=\"1\" class=\"dataframe\">\n",
       "  <thead>\n",
       "    <tr style=\"text-align: right;\">\n",
       "      <th></th>\n",
       "      <th>instant</th>\n",
       "      <th>dteday</th>\n",
       "      <th>season</th>\n",
       "      <th>yr</th>\n",
       "      <th>mnth</th>\n",
       "      <th>hr</th>\n",
       "      <th>holiday</th>\n",
       "      <th>weekday</th>\n",
       "      <th>workingday</th>\n",
       "      <th>weathersit</th>\n",
       "      <th>temp</th>\n",
       "      <th>atemp</th>\n",
       "      <th>hum</th>\n",
       "      <th>windspeed</th>\n",
       "      <th>casual</th>\n",
       "      <th>registered</th>\n",
       "      <th>cnt</th>\n",
       "    </tr>\n",
       "  </thead>\n",
       "  <tbody>\n",
       "    <tr>\n",
       "      <th>0</th>\n",
       "      <td>1</td>\n",
       "      <td>2011-01-01</td>\n",
       "      <td>1</td>\n",
       "      <td>0</td>\n",
       "      <td>1</td>\n",
       "      <td>0</td>\n",
       "      <td>0</td>\n",
       "      <td>6</td>\n",
       "      <td>0</td>\n",
       "      <td>1</td>\n",
       "      <td>0.24</td>\n",
       "      <td>0.2879</td>\n",
       "      <td>0.81</td>\n",
       "      <td>0.0000</td>\n",
       "      <td>3</td>\n",
       "      <td>13</td>\n",
       "      <td>16</td>\n",
       "    </tr>\n",
       "    <tr>\n",
       "      <th>1</th>\n",
       "      <td>2</td>\n",
       "      <td>2011-01-01</td>\n",
       "      <td>1</td>\n",
       "      <td>0</td>\n",
       "      <td>1</td>\n",
       "      <td>1</td>\n",
       "      <td>0</td>\n",
       "      <td>6</td>\n",
       "      <td>0</td>\n",
       "      <td>1</td>\n",
       "      <td>0.22</td>\n",
       "      <td>0.2727</td>\n",
       "      <td>0.80</td>\n",
       "      <td>0.0000</td>\n",
       "      <td>8</td>\n",
       "      <td>32</td>\n",
       "      <td>40</td>\n",
       "    </tr>\n",
       "    <tr>\n",
       "      <th>2</th>\n",
       "      <td>3</td>\n",
       "      <td>2011-01-01</td>\n",
       "      <td>1</td>\n",
       "      <td>0</td>\n",
       "      <td>1</td>\n",
       "      <td>2</td>\n",
       "      <td>0</td>\n",
       "      <td>6</td>\n",
       "      <td>0</td>\n",
       "      <td>1</td>\n",
       "      <td>0.22</td>\n",
       "      <td>0.2727</td>\n",
       "      <td>0.80</td>\n",
       "      <td>0.0000</td>\n",
       "      <td>5</td>\n",
       "      <td>27</td>\n",
       "      <td>32</td>\n",
       "    </tr>\n",
       "    <tr>\n",
       "      <th>3</th>\n",
       "      <td>4</td>\n",
       "      <td>2011-01-01</td>\n",
       "      <td>1</td>\n",
       "      <td>0</td>\n",
       "      <td>1</td>\n",
       "      <td>3</td>\n",
       "      <td>0</td>\n",
       "      <td>6</td>\n",
       "      <td>0</td>\n",
       "      <td>1</td>\n",
       "      <td>0.24</td>\n",
       "      <td>0.2879</td>\n",
       "      <td>0.75</td>\n",
       "      <td>0.0000</td>\n",
       "      <td>3</td>\n",
       "      <td>10</td>\n",
       "      <td>13</td>\n",
       "    </tr>\n",
       "    <tr>\n",
       "      <th>4</th>\n",
       "      <td>5</td>\n",
       "      <td>2011-01-01</td>\n",
       "      <td>1</td>\n",
       "      <td>0</td>\n",
       "      <td>1</td>\n",
       "      <td>4</td>\n",
       "      <td>0</td>\n",
       "      <td>6</td>\n",
       "      <td>0</td>\n",
       "      <td>1</td>\n",
       "      <td>0.24</td>\n",
       "      <td>0.2879</td>\n",
       "      <td>0.75</td>\n",
       "      <td>0.0000</td>\n",
       "      <td>0</td>\n",
       "      <td>1</td>\n",
       "      <td>1</td>\n",
       "    </tr>\n",
       "    <tr>\n",
       "      <th>...</th>\n",
       "      <td>...</td>\n",
       "      <td>...</td>\n",
       "      <td>...</td>\n",
       "      <td>...</td>\n",
       "      <td>...</td>\n",
       "      <td>...</td>\n",
       "      <td>...</td>\n",
       "      <td>...</td>\n",
       "      <td>...</td>\n",
       "      <td>...</td>\n",
       "      <td>...</td>\n",
       "      <td>...</td>\n",
       "      <td>...</td>\n",
       "      <td>...</td>\n",
       "      <td>...</td>\n",
       "      <td>...</td>\n",
       "      <td>...</td>\n",
       "    </tr>\n",
       "    <tr>\n",
       "      <th>17374</th>\n",
       "      <td>17375</td>\n",
       "      <td>2012-12-31</td>\n",
       "      <td>1</td>\n",
       "      <td>1</td>\n",
       "      <td>12</td>\n",
       "      <td>19</td>\n",
       "      <td>0</td>\n",
       "      <td>1</td>\n",
       "      <td>1</td>\n",
       "      <td>2</td>\n",
       "      <td>0.26</td>\n",
       "      <td>0.2576</td>\n",
       "      <td>0.60</td>\n",
       "      <td>0.1642</td>\n",
       "      <td>11</td>\n",
       "      <td>108</td>\n",
       "      <td>119</td>\n",
       "    </tr>\n",
       "    <tr>\n",
       "      <th>17375</th>\n",
       "      <td>17376</td>\n",
       "      <td>2012-12-31</td>\n",
       "      <td>1</td>\n",
       "      <td>1</td>\n",
       "      <td>12</td>\n",
       "      <td>20</td>\n",
       "      <td>0</td>\n",
       "      <td>1</td>\n",
       "      <td>1</td>\n",
       "      <td>2</td>\n",
       "      <td>0.26</td>\n",
       "      <td>0.2576</td>\n",
       "      <td>0.60</td>\n",
       "      <td>0.1642</td>\n",
       "      <td>8</td>\n",
       "      <td>81</td>\n",
       "      <td>89</td>\n",
       "    </tr>\n",
       "    <tr>\n",
       "      <th>17376</th>\n",
       "      <td>17377</td>\n",
       "      <td>2012-12-31</td>\n",
       "      <td>1</td>\n",
       "      <td>1</td>\n",
       "      <td>12</td>\n",
       "      <td>21</td>\n",
       "      <td>0</td>\n",
       "      <td>1</td>\n",
       "      <td>1</td>\n",
       "      <td>1</td>\n",
       "      <td>0.26</td>\n",
       "      <td>0.2576</td>\n",
       "      <td>0.60</td>\n",
       "      <td>0.1642</td>\n",
       "      <td>7</td>\n",
       "      <td>83</td>\n",
       "      <td>90</td>\n",
       "    </tr>\n",
       "    <tr>\n",
       "      <th>17377</th>\n",
       "      <td>17378</td>\n",
       "      <td>2012-12-31</td>\n",
       "      <td>1</td>\n",
       "      <td>1</td>\n",
       "      <td>12</td>\n",
       "      <td>22</td>\n",
       "      <td>0</td>\n",
       "      <td>1</td>\n",
       "      <td>1</td>\n",
       "      <td>1</td>\n",
       "      <td>0.26</td>\n",
       "      <td>0.2727</td>\n",
       "      <td>0.56</td>\n",
       "      <td>0.1343</td>\n",
       "      <td>13</td>\n",
       "      <td>48</td>\n",
       "      <td>61</td>\n",
       "    </tr>\n",
       "    <tr>\n",
       "      <th>17378</th>\n",
       "      <td>17379</td>\n",
       "      <td>2012-12-31</td>\n",
       "      <td>1</td>\n",
       "      <td>1</td>\n",
       "      <td>12</td>\n",
       "      <td>23</td>\n",
       "      <td>0</td>\n",
       "      <td>1</td>\n",
       "      <td>1</td>\n",
       "      <td>1</td>\n",
       "      <td>0.26</td>\n",
       "      <td>0.2727</td>\n",
       "      <td>0.65</td>\n",
       "      <td>0.1343</td>\n",
       "      <td>12</td>\n",
       "      <td>37</td>\n",
       "      <td>49</td>\n",
       "    </tr>\n",
       "  </tbody>\n",
       "</table>\n",
       "<p>17379 rows × 17 columns</p>\n",
       "</div>"
      ],
      "text/plain": [
       "       instant      dteday  season  yr  mnth  hr  holiday  weekday  \\\n",
       "0            1  2011-01-01       1   0     1   0        0        6   \n",
       "1            2  2011-01-01       1   0     1   1        0        6   \n",
       "2            3  2011-01-01       1   0     1   2        0        6   \n",
       "3            4  2011-01-01       1   0     1   3        0        6   \n",
       "4            5  2011-01-01       1   0     1   4        0        6   \n",
       "...        ...         ...     ...  ..   ...  ..      ...      ...   \n",
       "17374    17375  2012-12-31       1   1    12  19        0        1   \n",
       "17375    17376  2012-12-31       1   1    12  20        0        1   \n",
       "17376    17377  2012-12-31       1   1    12  21        0        1   \n",
       "17377    17378  2012-12-31       1   1    12  22        0        1   \n",
       "17378    17379  2012-12-31       1   1    12  23        0        1   \n",
       "\n",
       "       workingday  weathersit  temp   atemp   hum  windspeed  casual  \\\n",
       "0               0           1  0.24  0.2879  0.81     0.0000       3   \n",
       "1               0           1  0.22  0.2727  0.80     0.0000       8   \n",
       "2               0           1  0.22  0.2727  0.80     0.0000       5   \n",
       "3               0           1  0.24  0.2879  0.75     0.0000       3   \n",
       "4               0           1  0.24  0.2879  0.75     0.0000       0   \n",
       "...           ...         ...   ...     ...   ...        ...     ...   \n",
       "17374           1           2  0.26  0.2576  0.60     0.1642      11   \n",
       "17375           1           2  0.26  0.2576  0.60     0.1642       8   \n",
       "17376           1           1  0.26  0.2576  0.60     0.1642       7   \n",
       "17377           1           1  0.26  0.2727  0.56     0.1343      13   \n",
       "17378           1           1  0.26  0.2727  0.65     0.1343      12   \n",
       "\n",
       "       registered  cnt  \n",
       "0              13   16  \n",
       "1              32   40  \n",
       "2              27   32  \n",
       "3              10   13  \n",
       "4               1    1  \n",
       "...           ...  ...  \n",
       "17374         108  119  \n",
       "17375          81   89  \n",
       "17376          83   90  \n",
       "17377          48   61  \n",
       "17378          37   49  \n",
       "\n",
       "[17379 rows x 17 columns]"
      ]
     },
     "execution_count": 6,
     "metadata": {},
     "output_type": "execute_result"
    }
   ],
   "source": [
    "data = pd.read_csv('hour.csv')\n",
    "data"
   ]
  },
  {
   "cell_type": "code",
   "execution_count": 7,
   "metadata": {
    "colab": {
     "base_uri": "https://localhost:8080/",
     "height": 80
    },
    "id": "S1_KGImV3KFW",
    "outputId": "27ea0ae2-73f8-4a9e-d35e-0aad0ac15e94"
   },
   "outputs": [
    {
     "data": {
      "text/html": [
       "<div>\n",
       "<style scoped>\n",
       "    .dataframe tbody tr th:only-of-type {\n",
       "        vertical-align: middle;\n",
       "    }\n",
       "\n",
       "    .dataframe tbody tr th {\n",
       "        vertical-align: top;\n",
       "    }\n",
       "\n",
       "    .dataframe thead th {\n",
       "        text-align: right;\n",
       "    }\n",
       "</style>\n",
       "<table border=\"1\" class=\"dataframe\">\n",
       "  <thead>\n",
       "    <tr style=\"text-align: right;\">\n",
       "      <th></th>\n",
       "      <th>instant</th>\n",
       "      <th>dteday</th>\n",
       "      <th>season</th>\n",
       "      <th>yr</th>\n",
       "      <th>mnth</th>\n",
       "      <th>hr</th>\n",
       "      <th>holiday</th>\n",
       "      <th>weekday</th>\n",
       "      <th>workingday</th>\n",
       "      <th>weathersit</th>\n",
       "      <th>temp</th>\n",
       "      <th>atemp</th>\n",
       "      <th>hum</th>\n",
       "      <th>windspeed</th>\n",
       "      <th>casual</th>\n",
       "      <th>registered</th>\n",
       "      <th>cnt</th>\n",
       "    </tr>\n",
       "  </thead>\n",
       "  <tbody>\n",
       "    <tr>\n",
       "      <th>0</th>\n",
       "      <td>1</td>\n",
       "      <td>2011-01-01</td>\n",
       "      <td>1</td>\n",
       "      <td>0</td>\n",
       "      <td>1</td>\n",
       "      <td>0</td>\n",
       "      <td>0</td>\n",
       "      <td>6</td>\n",
       "      <td>0</td>\n",
       "      <td>1</td>\n",
       "      <td>0.24</td>\n",
       "      <td>0.2879</td>\n",
       "      <td>0.81</td>\n",
       "      <td>0.0</td>\n",
       "      <td>3</td>\n",
       "      <td>13</td>\n",
       "      <td>16</td>\n",
       "    </tr>\n",
       "  </tbody>\n",
       "</table>\n",
       "</div>"
      ],
      "text/plain": [
       "   instant      dteday  season  yr  mnth  hr  holiday  weekday  workingday  \\\n",
       "0        1  2011-01-01       1   0     1   0        0        6           0   \n",
       "\n",
       "   weathersit  temp   atemp   hum  windspeed  casual  registered  cnt  \n",
       "0           1  0.24  0.2879  0.81        0.0       3          13   16  "
      ]
     },
     "execution_count": 7,
     "metadata": {},
     "output_type": "execute_result"
    }
   ],
   "source": [
    "data.head(1)"
   ]
  },
  {
   "cell_type": "markdown",
   "metadata": {
    "id": "F1kkTqYQmSFr"
   },
   "source": [
    "#**Get column names of the dataset**\n",
    "\n"
   ]
  },
  {
   "cell_type": "code",
   "execution_count": 8,
   "metadata": {
    "colab": {
     "base_uri": "https://localhost:8080/",
     "height": 300
    },
    "id": "sfYqWzYemUmK",
    "outputId": "052b40f2-09cf-4287-8e13-2fc68b75184a"
   },
   "outputs": [
    {
     "data": {
      "text/html": [
       "<div>\n",
       "<style scoped>\n",
       "    .dataframe tbody tr th:only-of-type {\n",
       "        vertical-align: middle;\n",
       "    }\n",
       "\n",
       "    .dataframe tbody tr th {\n",
       "        vertical-align: top;\n",
       "    }\n",
       "\n",
       "    .dataframe thead th {\n",
       "        text-align: right;\n",
       "    }\n",
       "</style>\n",
       "<table border=\"1\" class=\"dataframe\">\n",
       "  <thead>\n",
       "    <tr style=\"text-align: right;\">\n",
       "      <th></th>\n",
       "      <th>temp</th>\n",
       "      <th>atemp</th>\n",
       "      <th>hum</th>\n",
       "      <th>windspeed</th>\n",
       "    </tr>\n",
       "  </thead>\n",
       "  <tbody>\n",
       "    <tr>\n",
       "      <th>count</th>\n",
       "      <td>17379.000000</td>\n",
       "      <td>17379.000000</td>\n",
       "      <td>17379.000000</td>\n",
       "      <td>17379.000000</td>\n",
       "    </tr>\n",
       "    <tr>\n",
       "      <th>mean</th>\n",
       "      <td>0.496987</td>\n",
       "      <td>0.475775</td>\n",
       "      <td>0.627229</td>\n",
       "      <td>0.190098</td>\n",
       "    </tr>\n",
       "    <tr>\n",
       "      <th>std</th>\n",
       "      <td>0.192556</td>\n",
       "      <td>0.171850</td>\n",
       "      <td>0.192930</td>\n",
       "      <td>0.122340</td>\n",
       "    </tr>\n",
       "    <tr>\n",
       "      <th>min</th>\n",
       "      <td>0.020000</td>\n",
       "      <td>0.000000</td>\n",
       "      <td>0.000000</td>\n",
       "      <td>0.000000</td>\n",
       "    </tr>\n",
       "    <tr>\n",
       "      <th>25%</th>\n",
       "      <td>0.340000</td>\n",
       "      <td>0.333300</td>\n",
       "      <td>0.480000</td>\n",
       "      <td>0.104500</td>\n",
       "    </tr>\n",
       "    <tr>\n",
       "      <th>50%</th>\n",
       "      <td>0.500000</td>\n",
       "      <td>0.484800</td>\n",
       "      <td>0.630000</td>\n",
       "      <td>0.194000</td>\n",
       "    </tr>\n",
       "    <tr>\n",
       "      <th>75%</th>\n",
       "      <td>0.660000</td>\n",
       "      <td>0.621200</td>\n",
       "      <td>0.780000</td>\n",
       "      <td>0.253700</td>\n",
       "    </tr>\n",
       "    <tr>\n",
       "      <th>max</th>\n",
       "      <td>1.000000</td>\n",
       "      <td>1.000000</td>\n",
       "      <td>1.000000</td>\n",
       "      <td>0.850700</td>\n",
       "    </tr>\n",
       "  </tbody>\n",
       "</table>\n",
       "</div>"
      ],
      "text/plain": [
       "               temp         atemp           hum     windspeed\n",
       "count  17379.000000  17379.000000  17379.000000  17379.000000\n",
       "mean       0.496987      0.475775      0.627229      0.190098\n",
       "std        0.192556      0.171850      0.192930      0.122340\n",
       "min        0.020000      0.000000      0.000000      0.000000\n",
       "25%        0.340000      0.333300      0.480000      0.104500\n",
       "50%        0.500000      0.484800      0.630000      0.194000\n",
       "75%        0.660000      0.621200      0.780000      0.253700\n",
       "max        1.000000      1.000000      1.000000      0.850700"
      ]
     },
     "execution_count": 8,
     "metadata": {},
     "output_type": "execute_result"
    }
   ],
   "source": [
    "category_features = ['season', 'holiday', 'mnth', 'hr', 'weekday', 'workingday', 'weathersit']\n",
    "number_features = ['temp', 'atemp', 'hum', 'windspeed']\n",
    "data[number_features].describe()"
   ]
  },
  {
   "cell_type": "markdown",
   "metadata": {
    "id": "4yh2hc1ImXY6"
   },
   "source": [
    "#**Ensure all the types of variables before doing training, in the case there are qualitative values, the encoding is applied.**"
   ]
  },
  {
   "cell_type": "code",
   "execution_count": 9,
   "metadata": {
    "colab": {
     "base_uri": "https://localhost:8080/"
    },
    "id": "9xLRXH6KmbM9",
    "outputId": "5ba19604-ae65-4c0c-aa4b-e147d889035a"
   },
   "outputs": [
    {
     "name": "stdout",
     "output_type": "stream",
     "text": [
      "<class 'pandas.core.frame.DataFrame'>\n",
      "RangeIndex: 17379 entries, 0 to 17378\n",
      "Data columns (total 17 columns):\n",
      " #   Column      Non-Null Count  Dtype  \n",
      "---  ------      --------------  -----  \n",
      " 0   instant     17379 non-null  int64  \n",
      " 1   dteday      17379 non-null  object \n",
      " 2   season      17379 non-null  int64  \n",
      " 3   yr          17379 non-null  int64  \n",
      " 4   mnth        17379 non-null  int64  \n",
      " 5   hr          17379 non-null  int64  \n",
      " 6   holiday     17379 non-null  int64  \n",
      " 7   weekday     17379 non-null  int64  \n",
      " 8   workingday  17379 non-null  int64  \n",
      " 9   weathersit  17379 non-null  int64  \n",
      " 10  temp        17379 non-null  float64\n",
      " 11  atemp       17379 non-null  float64\n",
      " 12  hum         17379 non-null  float64\n",
      " 13  windspeed   17379 non-null  float64\n",
      " 14  casual      17379 non-null  int64  \n",
      " 15  registered  17379 non-null  int64  \n",
      " 16  cnt         17379 non-null  int64  \n",
      "dtypes: float64(4), int64(12), object(1)\n",
      "memory usage: 2.3+ MB\n"
     ]
    }
   ],
   "source": [
    "data.info()"
   ]
  },
  {
   "cell_type": "markdown",
   "metadata": {
    "id": "T-6iPhnh9y8P"
   },
   "source": [
    "#**Check for null values**\n"
   ]
  },
  {
   "cell_type": "code",
   "execution_count": 10,
   "metadata": {
    "colab": {
     "base_uri": "https://localhost:8080/"
    },
    "id": "g7uYXUDBDTXf",
    "outputId": "b96081e8-5d60-4b2c-9724-4ee93edba775"
   },
   "outputs": [
    {
     "data": {
      "text/plain": [
       "instant       0\n",
       "dteday        0\n",
       "season        0\n",
       "yr            0\n",
       "mnth          0\n",
       "hr            0\n",
       "holiday       0\n",
       "weekday       0\n",
       "workingday    0\n",
       "weathersit    0\n",
       "temp          0\n",
       "atemp         0\n",
       "hum           0\n",
       "windspeed     0\n",
       "casual        0\n",
       "registered    0\n",
       "cnt           0\n",
       "dtype: int64"
      ]
     },
     "execution_count": 10,
     "metadata": {},
     "output_type": "execute_result"
    }
   ],
   "source": [
    "data.isnull().sum()"
   ]
  },
  {
   "cell_type": "markdown",
   "metadata": {
    "id": "lZXVnlfMDQfV"
   },
   "source": [
    "#**PRE-PROCESSING PHASE**"
   ]
  },
  {
   "cell_type": "markdown",
   "metadata": {
    "id": "3uVwVwxIj2Db"
   },
   "source": [
    "#**Remove outliers from data**"
   ]
  },
  {
   "cell_type": "markdown",
   "metadata": {
    "id": "i7IklaE295k3"
   },
   "source": [
    "#**Detecting outliers using Box plots**"
   ]
  },
  {
   "cell_type": "code",
   "execution_count": 11,
   "metadata": {
    "colab": {
     "base_uri": "https://localhost:8080/",
     "height": 946
    },
    "id": "JeUfq_X0rgSR",
    "outputId": "bd5ae81e-3043-420b-8cb5-3d4364065f47"
   },
   "outputs": [
    {
     "data": {
      "text/plain": [
       "[Text(0.5, 0, 'Temperature'),\n",
       " Text(0, 0.5, 'Count'),\n",
       " Text(0.5, 1.0, 'Box Plot On Count Across Temperature')]"
      ]
     },
     "execution_count": 11,
     "metadata": {},
     "output_type": "execute_result"
    },
    {
     "data": {
      "image/png": "[encoded data removed]",
      "text/plain": [
       "<Figure size 1080x1080 with 6 Axes>"
      ]
     },
     "metadata": {
      "needs_background": "light"
     },
     "output_type": "display_data"
    }
   ],
   "source": [
    "fig, axes = plt.subplots(nrows=3,ncols=2)\n",
    "fig.set_size_inches(15, 15)\n",
    "sns.boxplot(data=data,y=\"cnt\",orient=\"v\",ax=axes[0][0])\n",
    "sns.boxplot(data=data,y=\"cnt\",x=\"mnth\",orient=\"v\",ax=axes[0][1])\n",
    "sns.boxplot(data=data,y=\"cnt\",x=\"weathersit\",orient=\"v\",ax=axes[1][0])\n",
    "sns.boxplot(data=data,y=\"cnt\",x=\"workingday\",orient=\"v\",ax=axes[1][1])\n",
    "sns.boxplot(data=data,y=\"cnt\",x=\"hr\",orient=\"v\",ax=axes[2][0])\n",
    "sns.boxplot(data=data,y=\"cnt\",x=\"temp\",orient=\"v\",ax=axes[2][1])\n",
    "\n",
    "axes[0][0].set(ylabel='Count',title=\"Box Plot On Count\")\n",
    "axes[0][1].set(xlabel='Month', ylabel='Count',title=\"Box Plot On Count Across Months\")\n",
    "axes[1][0].set(xlabel='Weather Situation', ylabel='Count',title=\"Box Plot On Count Across Weather Situations\")\n",
    "axes[1][1].set(xlabel='Working Day', ylabel='Count',title=\"Box Plot On Count Across Working Day\")\n",
    "axes[2][0].set(xlabel='Hour Of The Day', ylabel='Count',title=\"Box Plot On Count Across Hour Of The Day\")\n",
    "axes[2][1].set(xlabel='Temperature', ylabel='Count',title=\"Box Plot On Count Across Temperature\")"
   ]
  },
  {
   "cell_type": "markdown",
   "metadata": {
    "id": "62SBqoUI-Cn0"
   },
   "source": [
    "#**Remove outliers**"
   ]
  },
  {
   "cell_type": "code",
   "execution_count": 12,
   "metadata": {
    "colab": {
     "base_uri": "https://localhost:8080/",
     "height": 371
    },
    "id": "h_d4L91VGY3h",
    "outputId": "ab263490-b6cd-4217-98f4-e07a23462fd4"
   },
   "outputs": [
    {
     "name": "stdout",
     "output_type": "stream",
     "text": [
      "Samples in train set with outliers: 17379\n",
      "Samples in train set without outliers: 16874\n"
     ]
    },
    {
     "name": "stderr",
     "output_type": "stream",
     "text": [
      "/Users/macuser/opt/anaconda3/lib/python3.9/site-packages/seaborn/distributions.py:2619: FutureWarning: `distplot` is a deprecated function and will be removed in a future version. Please adapt your code to use either `displot` (a figure-level function with similar flexibility) or `histplot` (an axes-level function for histograms).\n",
      "  warnings.warn(msg, FutureWarning)\n"
     ]
    },
    {
     "data": {
      "image/png": "[encoded data removed]",
      "text/plain": [
       "<Figure size 432x288 with 1 Axes>"
      ]
     },
     "metadata": {
      "needs_background": "light"
     },
     "output_type": "display_data"
    }
   ],
   "source": [
    "print(\"Samples in train set with outliers: {}\".format(len(data)))\n",
    "q1 = data.cnt.quantile(0.25)\n",
    "q3 = data.cnt.quantile(0.75)\n",
    "iqr = q3 - q1\n",
    "lower_bound = q1 -(1.5 * iqr) \n",
    "upper_bound = q3 +(1.5 * iqr) \n",
    "data_without_outlier = data.loc[(data.cnt >= lower_bound) & (data.cnt <= upper_bound)]\n",
    "print(\"Samples in train set without outliers: {}\".format(len(data_without_outlier)))\n",
    "\n",
    "sns.distplot(data_without_outlier.cnt);\n"
   ]
  },
  {
   "cell_type": "code",
   "execution_count": 13,
   "metadata": {
    "id": "VLlgCkQ_-MtC"
   },
   "outputs": [],
   "source": [
    "data = data_without_outlier"
   ]
  },
  {
   "cell_type": "markdown",
   "metadata": {
    "id": "A6fchBbOm1HX"
   },
   "source": [
    "#**Correlation Analysis**"
   ]
  },
  {
   "cell_type": "code",
   "execution_count": 14,
   "metadata": {
    "colab": {
     "base_uri": "https://localhost:8080/",
     "height": 614
    },
    "id": "pfsXRn-RoQGQ",
    "outputId": "ab8c884a-e6e4-42f7-83c6-01796c9054a5"
   },
   "outputs": [
    {
     "data": {
      "text/plain": [
       "<AxesSubplot:>"
      ]
     },
     "execution_count": 14,
     "metadata": {},
     "output_type": "execute_result"
    },
    {
     "data": {
      "image/png": "[encoded data removed]",
      "text/plain": [
       "<Figure size 1440x720 with 2 Axes>"
      ]
     },
     "metadata": {
      "needs_background": "light"
     },
     "output_type": "display_data"
    }
   ],
   "source": [
    "matrix = data[number_features + ['cnt']].corr()\n",
    "heat = np.array(matrix)\n",
    "heat[np.tril_indices_from(heat)] = False\n",
    "fig,ax= plt.subplots()\n",
    "fig.set_size_inches(20,10)\n",
    "sns.heatmap(matrix, mask=heat,vmax=1.0, vmin=0.0, square=True,annot=True, cmap=\"Reds\")"
   ]
  },
  {
   "cell_type": "markdown",
   "metadata": {
    "id": "mgBwxlSv-SHJ"
   },
   "source": [
    "#**Rename columns to make them more meaningful and readable**\n"
   ]
  },
  {
   "cell_type": "code",
   "execution_count": 15,
   "metadata": {
    "colab": {
     "base_uri": "https://localhost:8080/",
     "height": 364
    },
    "id": "mgau0V8lDds_",
    "outputId": "60b7d547-2b80-49e4-9ce3-8409c6ff47e1"
   },
   "outputs": [
    {
     "data": {
      "text/html": [
       "<div>\n",
       "<style scoped>\n",
       "    .dataframe tbody tr th:only-of-type {\n",
       "        vertical-align: middle;\n",
       "    }\n",
       "\n",
       "    .dataframe tbody tr th {\n",
       "        vertical-align: top;\n",
       "    }\n",
       "\n",
       "    .dataframe thead th {\n",
       "        text-align: right;\n",
       "    }\n",
       "</style>\n",
       "<table border=\"1\" class=\"dataframe\">\n",
       "  <thead>\n",
       "    <tr style=\"text-align: right;\">\n",
       "      <th></th>\n",
       "      <th>instant</th>\n",
       "      <th>season</th>\n",
       "      <th>year</th>\n",
       "      <th>month</th>\n",
       "      <th>hour</th>\n",
       "      <th>holiday</th>\n",
       "      <th>weekday</th>\n",
       "      <th>workingday</th>\n",
       "      <th>weather</th>\n",
       "      <th>temp</th>\n",
       "      <th>atemp</th>\n",
       "      <th>humidity</th>\n",
       "      <th>windspeed</th>\n",
       "      <th>casual</th>\n",
       "      <th>registered</th>\n",
       "      <th>count</th>\n",
       "    </tr>\n",
       "  </thead>\n",
       "  <tbody>\n",
       "    <tr>\n",
       "      <th>count</th>\n",
       "      <td>16874.000000</td>\n",
       "      <td>16874.000000</td>\n",
       "      <td>16874.000000</td>\n",
       "      <td>16874.000000</td>\n",
       "      <td>16874.000000</td>\n",
       "      <td>16874.000000</td>\n",
       "      <td>16874.000000</td>\n",
       "      <td>16874.000000</td>\n",
       "      <td>16874.000000</td>\n",
       "      <td>16874.000000</td>\n",
       "      <td>16874.000000</td>\n",
       "      <td>16874.000000</td>\n",
       "      <td>16874.000000</td>\n",
       "      <td>16874.000000</td>\n",
       "      <td>16874.000000</td>\n",
       "      <td>16874.000000</td>\n",
       "    </tr>\n",
       "    <tr>\n",
       "      <th>mean</th>\n",
       "      <td>8542.168899</td>\n",
       "      <td>2.490399</td>\n",
       "      <td>0.487733</td>\n",
       "      <td>6.513275</td>\n",
       "      <td>11.458101</td>\n",
       "      <td>0.029513</td>\n",
       "      <td>2.997748</td>\n",
       "      <td>0.678618</td>\n",
       "      <td>1.430663</td>\n",
       "      <td>0.492650</td>\n",
       "      <td>0.471970</td>\n",
       "      <td>0.630412</td>\n",
       "      <td>0.189619</td>\n",
       "      <td>33.418632</td>\n",
       "      <td>139.291514</td>\n",
       "      <td>172.710146</td>\n",
       "    </tr>\n",
       "    <tr>\n",
       "      <th>std</th>\n",
       "      <td>5007.766040</td>\n",
       "      <td>1.111966</td>\n",
       "      <td>0.499864</td>\n",
       "      <td>3.462438</td>\n",
       "      <td>6.962144</td>\n",
       "      <td>0.169244</td>\n",
       "      <td>2.013054</td>\n",
       "      <td>0.467021</td>\n",
       "      <td>0.642689</td>\n",
       "      <td>0.192455</td>\n",
       "      <td>0.171878</td>\n",
       "      <td>0.192600</td>\n",
       "      <td>0.122460</td>\n",
       "      <td>45.896591</td>\n",
       "      <td>126.052802</td>\n",
       "      <td>155.020918</td>\n",
       "    </tr>\n",
       "    <tr>\n",
       "      <th>min</th>\n",
       "      <td>1.000000</td>\n",
       "      <td>1.000000</td>\n",
       "      <td>0.000000</td>\n",
       "      <td>1.000000</td>\n",
       "      <td>0.000000</td>\n",
       "      <td>0.000000</td>\n",
       "      <td>0.000000</td>\n",
       "      <td>0.000000</td>\n",
       "      <td>1.000000</td>\n",
       "      <td>0.020000</td>\n",
       "      <td>0.000000</td>\n",
       "      <td>0.000000</td>\n",
       "      <td>0.000000</td>\n",
       "      <td>0.000000</td>\n",
       "      <td>0.000000</td>\n",
       "      <td>1.000000</td>\n",
       "    </tr>\n",
       "    <tr>\n",
       "      <th>25%</th>\n",
       "      <td>4219.250000</td>\n",
       "      <td>1.000000</td>\n",
       "      <td>0.000000</td>\n",
       "      <td>4.000000</td>\n",
       "      <td>5.000000</td>\n",
       "      <td>0.000000</td>\n",
       "      <td>1.000000</td>\n",
       "      <td>0.000000</td>\n",
       "      <td>1.000000</td>\n",
       "      <td>0.340000</td>\n",
       "      <td>0.333300</td>\n",
       "      <td>0.480000</td>\n",
       "      <td>0.104500</td>\n",
       "      <td>4.000000</td>\n",
       "      <td>32.000000</td>\n",
       "      <td>38.000000</td>\n",
       "    </tr>\n",
       "    <tr>\n",
       "      <th>50%</th>\n",
       "      <td>8438.500000</td>\n",
       "      <td>2.000000</td>\n",
       "      <td>0.000000</td>\n",
       "      <td>7.000000</td>\n",
       "      <td>11.000000</td>\n",
       "      <td>0.000000</td>\n",
       "      <td>3.000000</td>\n",
       "      <td>1.000000</td>\n",
       "      <td>1.000000</td>\n",
       "      <td>0.500000</td>\n",
       "      <td>0.484800</td>\n",
       "      <td>0.630000</td>\n",
       "      <td>0.179100</td>\n",
       "      <td>15.000000</td>\n",
       "      <td>111.000000</td>\n",
       "      <td>135.000000</td>\n",
       "    </tr>\n",
       "    <tr>\n",
       "      <th>75%</th>\n",
       "      <td>12832.750000</td>\n",
       "      <td>3.000000</td>\n",
       "      <td>1.000000</td>\n",
       "      <td>10.000000</td>\n",
       "      <td>18.000000</td>\n",
       "      <td>0.000000</td>\n",
       "      <td>5.000000</td>\n",
       "      <td>1.000000</td>\n",
       "      <td>2.000000</td>\n",
       "      <td>0.640000</td>\n",
       "      <td>0.621200</td>\n",
       "      <td>0.790000</td>\n",
       "      <td>0.253700</td>\n",
       "      <td>45.000000</td>\n",
       "      <td>208.000000</td>\n",
       "      <td>265.750000</td>\n",
       "    </tr>\n",
       "    <tr>\n",
       "      <th>max</th>\n",
       "      <td>17379.000000</td>\n",
       "      <td>4.000000</td>\n",
       "      <td>1.000000</td>\n",
       "      <td>12.000000</td>\n",
       "      <td>23.000000</td>\n",
       "      <td>1.000000</td>\n",
       "      <td>6.000000</td>\n",
       "      <td>1.000000</td>\n",
       "      <td>4.000000</td>\n",
       "      <td>1.000000</td>\n",
       "      <td>1.000000</td>\n",
       "      <td>1.000000</td>\n",
       "      <td>0.850700</td>\n",
       "      <td>354.000000</td>\n",
       "      <td>629.000000</td>\n",
       "      <td>642.000000</td>\n",
       "    </tr>\n",
       "  </tbody>\n",
       "</table>\n",
       "</div>"
      ],
      "text/plain": [
       "            instant        season          year         month          hour  \\\n",
       "count  16874.000000  16874.000000  16874.000000  16874.000000  16874.000000   \n",
       "mean    8542.168899      2.490399      0.487733      6.513275     11.458101   \n",
       "std     5007.766040      1.111966      0.499864      3.462438      6.962144   \n",
       "min        1.000000      1.000000      0.000000      1.000000      0.000000   \n",
       "25%     4219.250000      1.000000      0.000000      4.000000      5.000000   \n",
       "50%     8438.500000      2.000000      0.000000      7.000000     11.000000   \n",
       "75%    12832.750000      3.000000      1.000000     10.000000     18.000000   \n",
       "max    17379.000000      4.000000      1.000000     12.000000     23.000000   \n",
       "\n",
       "            holiday       weekday    workingday       weather          temp  \\\n",
       "count  16874.000000  16874.000000  16874.000000  16874.000000  16874.000000   \n",
       "mean       0.029513      2.997748      0.678618      1.430663      0.492650   \n",
       "std        0.169244      2.013054      0.467021      0.642689      0.192455   \n",
       "min        0.000000      0.000000      0.000000      1.000000      0.020000   \n",
       "25%        0.000000      1.000000      0.000000      1.000000      0.340000   \n",
       "50%        0.000000      3.000000      1.000000      1.000000      0.500000   \n",
       "75%        0.000000      5.000000      1.000000      2.000000      0.640000   \n",
       "max        1.000000      6.000000      1.000000      4.000000      1.000000   \n",
       "\n",
       "              atemp      humidity     windspeed        casual    registered  \\\n",
       "count  16874.000000  16874.000000  16874.000000  16874.000000  16874.000000   \n",
       "mean       0.471970      0.630412      0.189619     33.418632    139.291514   \n",
       "std        0.171878      0.192600      0.122460     45.896591    126.052802   \n",
       "min        0.000000      0.000000      0.000000      0.000000      0.000000   \n",
       "25%        0.333300      0.480000      0.104500      4.000000     32.000000   \n",
       "50%        0.484800      0.630000      0.179100     15.000000    111.000000   \n",
       "75%        0.621200      0.790000      0.253700     45.000000    208.000000   \n",
       "max        1.000000      1.000000      0.850700    354.000000    629.000000   \n",
       "\n",
       "              count  \n",
       "count  16874.000000  \n",
       "mean     172.710146  \n",
       "std      155.020918  \n",
       "min        1.000000  \n",
       "25%       38.000000  \n",
       "50%      135.000000  \n",
       "75%      265.750000  \n",
       "max      642.000000  "
      ]
     },
     "execution_count": 15,
     "metadata": {},
     "output_type": "execute_result"
    }
   ],
   "source": [
    "data = data.rename(columns={'yr':'year',\n",
    "                            'mnth':'month',\n",
    "                            'weathersit':'weather',\n",
    "                            'hr':'hour',\n",
    "                            'hum':'humidity',\n",
    "                            'cnt':'count'})\n",
    "data.describe()"
   ]
  },
  {
   "cell_type": "markdown",
   "metadata": {
    "id": "pONK2PvH-XP7"
   },
   "source": [
    "#**Remove features non necessary**\n"
   ]
  },
  {
   "cell_type": "code",
   "execution_count": 16,
   "metadata": {
    "colab": {
     "base_uri": "https://localhost:8080/",
     "height": 206
    },
    "id": "UNNODruhDr11",
    "outputId": "18bc3408-ec14-44a3-cade-5dde6981c30a"
   },
   "outputs": [
    {
     "data": {
      "text/html": [
       "<div>\n",
       "<style scoped>\n",
       "    .dataframe tbody tr th:only-of-type {\n",
       "        vertical-align: middle;\n",
       "    }\n",
       "\n",
       "    .dataframe tbody tr th {\n",
       "        vertical-align: top;\n",
       "    }\n",
       "\n",
       "    .dataframe thead th {\n",
       "        text-align: right;\n",
       "    }\n",
       "</style>\n",
       "<table border=\"1\" class=\"dataframe\">\n",
       "  <thead>\n",
       "    <tr style=\"text-align: right;\">\n",
       "      <th></th>\n",
       "      <th>season</th>\n",
       "      <th>month</th>\n",
       "      <th>hour</th>\n",
       "      <th>holiday</th>\n",
       "      <th>weekday</th>\n",
       "      <th>workingday</th>\n",
       "      <th>weather</th>\n",
       "      <th>temp</th>\n",
       "      <th>humidity</th>\n",
       "      <th>windspeed</th>\n",
       "      <th>count</th>\n",
       "    </tr>\n",
       "  </thead>\n",
       "  <tbody>\n",
       "    <tr>\n",
       "      <th>0</th>\n",
       "      <td>1</td>\n",
       "      <td>1</td>\n",
       "      <td>0</td>\n",
       "      <td>0</td>\n",
       "      <td>6</td>\n",
       "      <td>0</td>\n",
       "      <td>1</td>\n",
       "      <td>0.24</td>\n",
       "      <td>0.81</td>\n",
       "      <td>0.0</td>\n",
       "      <td>16</td>\n",
       "    </tr>\n",
       "    <tr>\n",
       "      <th>1</th>\n",
       "      <td>1</td>\n",
       "      <td>1</td>\n",
       "      <td>1</td>\n",
       "      <td>0</td>\n",
       "      <td>6</td>\n",
       "      <td>0</td>\n",
       "      <td>1</td>\n",
       "      <td>0.22</td>\n",
       "      <td>0.80</td>\n",
       "      <td>0.0</td>\n",
       "      <td>40</td>\n",
       "    </tr>\n",
       "    <tr>\n",
       "      <th>2</th>\n",
       "      <td>1</td>\n",
       "      <td>1</td>\n",
       "      <td>2</td>\n",
       "      <td>0</td>\n",
       "      <td>6</td>\n",
       "      <td>0</td>\n",
       "      <td>1</td>\n",
       "      <td>0.22</td>\n",
       "      <td>0.80</td>\n",
       "      <td>0.0</td>\n",
       "      <td>32</td>\n",
       "    </tr>\n",
       "    <tr>\n",
       "      <th>3</th>\n",
       "      <td>1</td>\n",
       "      <td>1</td>\n",
       "      <td>3</td>\n",
       "      <td>0</td>\n",
       "      <td>6</td>\n",
       "      <td>0</td>\n",
       "      <td>1</td>\n",
       "      <td>0.24</td>\n",
       "      <td>0.75</td>\n",
       "      <td>0.0</td>\n",
       "      <td>13</td>\n",
       "    </tr>\n",
       "    <tr>\n",
       "      <th>4</th>\n",
       "      <td>1</td>\n",
       "      <td>1</td>\n",
       "      <td>4</td>\n",
       "      <td>0</td>\n",
       "      <td>6</td>\n",
       "      <td>0</td>\n",
       "      <td>1</td>\n",
       "      <td>0.24</td>\n",
       "      <td>0.75</td>\n",
       "      <td>0.0</td>\n",
       "      <td>1</td>\n",
       "    </tr>\n",
       "  </tbody>\n",
       "</table>\n",
       "</div>"
      ],
      "text/plain": [
       "   season  month  hour  holiday  weekday  workingday  weather  temp  humidity  \\\n",
       "0       1      1     0        0        6           0        1  0.24      0.81   \n",
       "1       1      1     1        0        6           0        1  0.22      0.80   \n",
       "2       1      1     2        0        6           0        1  0.22      0.80   \n",
       "3       1      1     3        0        6           0        1  0.24      0.75   \n",
       "4       1      1     4        0        6           0        1  0.24      0.75   \n",
       "\n",
       "   windspeed  count  \n",
       "0        0.0     16  \n",
       "1        0.0     40  \n",
       "2        0.0     32  \n",
       "3        0.0     13  \n",
       "4        0.0      1  "
      ]
     },
     "execution_count": 16,
     "metadata": {},
     "output_type": "execute_result"
    }
   ],
   "source": [
    "data = data.drop(columns=['instant','dteday','year','casual','registered','atemp'])\n",
    "data.head()"
   ]
  },
  {
   "cell_type": "markdown",
   "metadata": {
    "id": "T9OWppNN-d1E"
   },
   "source": [
    "#**Dataset normalization**"
   ]
  },
  {
   "cell_type": "code",
   "execution_count": 17,
   "metadata": {
    "id": "CieKoV2JD3lR"
   },
   "outputs": [],
   "source": [
    "data = preprocessing.normalize(data)"
   ]
  },
  {
   "cell_type": "code",
   "execution_count": 18,
   "metadata": {
    "colab": {
     "base_uri": "https://localhost:8080/",
     "height": 206
    },
    "id": "SuZCn6V8EDOb",
    "outputId": "92dcc763-07c4-4f1d-be74-b0688a27399e"
   },
   "outputs": [
    {
     "data": {
      "text/html": [
       "<div>\n",
       "<style scoped>\n",
       "    .dataframe tbody tr th:only-of-type {\n",
       "        vertical-align: middle;\n",
       "    }\n",
       "\n",
       "    .dataframe tbody tr th {\n",
       "        vertical-align: top;\n",
       "    }\n",
       "\n",
       "    .dataframe thead th {\n",
       "        text-align: right;\n",
       "    }\n",
       "</style>\n",
       "<table border=\"1\" class=\"dataframe\">\n",
       "  <thead>\n",
       "    <tr style=\"text-align: right;\">\n",
       "      <th></th>\n",
       "      <th>season</th>\n",
       "      <th>month</th>\n",
       "      <th>hour</th>\n",
       "      <th>holiday</th>\n",
       "      <th>weekday</th>\n",
       "      <th>workingday</th>\n",
       "      <th>weather</th>\n",
       "      <th>temp</th>\n",
       "      <th>humidity</th>\n",
       "      <th>windspeed</th>\n",
       "      <th>count</th>\n",
       "    </tr>\n",
       "  </thead>\n",
       "  <tbody>\n",
       "    <tr>\n",
       "      <th>0</th>\n",
       "      <td>0.058152</td>\n",
       "      <td>0.058152</td>\n",
       "      <td>0.000000</td>\n",
       "      <td>0.0</td>\n",
       "      <td>0.348912</td>\n",
       "      <td>0.0</td>\n",
       "      <td>0.058152</td>\n",
       "      <td>0.013956</td>\n",
       "      <td>0.047103</td>\n",
       "      <td>0.0</td>\n",
       "      <td>0.930431</td>\n",
       "    </tr>\n",
       "    <tr>\n",
       "      <th>1</th>\n",
       "      <td>0.024688</td>\n",
       "      <td>0.024688</td>\n",
       "      <td>0.024688</td>\n",
       "      <td>0.0</td>\n",
       "      <td>0.148128</td>\n",
       "      <td>0.0</td>\n",
       "      <td>0.024688</td>\n",
       "      <td>0.005431</td>\n",
       "      <td>0.019750</td>\n",
       "      <td>0.0</td>\n",
       "      <td>0.987522</td>\n",
       "    </tr>\n",
       "    <tr>\n",
       "      <th>2</th>\n",
       "      <td>0.030604</td>\n",
       "      <td>0.030604</td>\n",
       "      <td>0.061208</td>\n",
       "      <td>0.0</td>\n",
       "      <td>0.183624</td>\n",
       "      <td>0.0</td>\n",
       "      <td>0.030604</td>\n",
       "      <td>0.006733</td>\n",
       "      <td>0.024483</td>\n",
       "      <td>0.0</td>\n",
       "      <td>0.979327</td>\n",
       "    </tr>\n",
       "    <tr>\n",
       "      <th>3</th>\n",
       "      <td>0.067788</td>\n",
       "      <td>0.067788</td>\n",
       "      <td>0.203363</td>\n",
       "      <td>0.0</td>\n",
       "      <td>0.406726</td>\n",
       "      <td>0.0</td>\n",
       "      <td>0.067788</td>\n",
       "      <td>0.016269</td>\n",
       "      <td>0.050841</td>\n",
       "      <td>0.0</td>\n",
       "      <td>0.881239</td>\n",
       "    </tr>\n",
       "    <tr>\n",
       "      <th>4</th>\n",
       "      <td>0.132897</td>\n",
       "      <td>0.132897</td>\n",
       "      <td>0.531587</td>\n",
       "      <td>0.0</td>\n",
       "      <td>0.797381</td>\n",
       "      <td>0.0</td>\n",
       "      <td>0.132897</td>\n",
       "      <td>0.031895</td>\n",
       "      <td>0.099673</td>\n",
       "      <td>0.0</td>\n",
       "      <td>0.132897</td>\n",
       "    </tr>\n",
       "  </tbody>\n",
       "</table>\n",
       "</div>"
      ],
      "text/plain": [
       "     season     month      hour  holiday   weekday  workingday   weather  \\\n",
       "0  0.058152  0.058152  0.000000      0.0  0.348912         0.0  0.058152   \n",
       "1  0.024688  0.024688  0.024688      0.0  0.148128         0.0  0.024688   \n",
       "2  0.030604  0.030604  0.061208      0.0  0.183624         0.0  0.030604   \n",
       "3  0.067788  0.067788  0.203363      0.0  0.406726         0.0  0.067788   \n",
       "4  0.132897  0.132897  0.531587      0.0  0.797381         0.0  0.132897   \n",
       "\n",
       "       temp  humidity  windspeed     count  \n",
       "0  0.013956  0.047103        0.0  0.930431  \n",
       "1  0.005431  0.019750        0.0  0.987522  \n",
       "2  0.006733  0.024483        0.0  0.979327  \n",
       "3  0.016269  0.050841        0.0  0.881239  \n",
       "4  0.031895  0.099673        0.0  0.132897  "
      ]
     },
     "execution_count": 18,
     "metadata": {},
     "output_type": "execute_result"
    }
   ],
   "source": [
    "data =pd.DataFrame(data,columns=['season','month','hour','holiday','weekday','workingday','weather','temp','humidity','windspeed','count'])\n",
    "data.head()"
   ]
  },
  {
   "cell_type": "markdown",
   "metadata": {
    "id": "4AkeWtguEW-5"
   },
   "source": [
    "#**Implementation**"
   ]
  },
  {
   "cell_type": "code",
   "execution_count": 19,
   "metadata": {
    "colab": {
     "base_uri": "https://localhost:8080/"
    },
    "id": "F9br1erS4BrC",
    "outputId": "7b82dec6-0b27-4038-afd6-74444ccdb1d5"
   },
   "outputs": [
    {
     "name": "stdout",
     "output_type": "stream",
     "text": [
      "Data shape :  (16874, 10)\n",
      "Target shape :  (16874,)\n"
     ]
    }
   ],
   "source": [
    "data =pd.DataFrame(data,columns=['season','month','hour','holiday','weekday','workingday','weather','temp','humidity','windspeed','count'])\n",
    "y = data['count'] # Outputs\n",
    "data = data.drop(columns=['count']) # Remove the colon of outputs from datasets\n",
    "print(\"Data shape : \", data.shape)\n",
    "print(\"Target shape : \", y.shape)"
   ]
  },
  {
   "cell_type": "code",
   "execution_count": 20,
   "metadata": {
    "colab": {
     "base_uri": "https://localhost:8080/"
    },
    "id": "zorvnxExE4rv",
    "outputId": "dce99718-168c-4851-897c-66e626520717"
   },
   "outputs": [
    {
     "name": "stdout",
     "output_type": "stream",
     "text": [
      "(16874, 1)\n"
     ]
    }
   ],
   "source": [
    "#regler les demesions de y\n",
    "y = np.array(y.values)\n",
    "y =y.reshape(data.shape[0],1)\n",
    "print(y.shape)\n"
   ]
  },
  {
   "cell_type": "code",
   "execution_count": 21,
   "metadata": {
    "colab": {
     "base_uri": "https://localhost:8080/"
    },
    "id": "NxsBdHd8FLqL",
    "outputId": "2f31f091-4c9f-440c-92cc-4ca2f66e95ae"
   },
   "outputs": [
    {
     "data": {
      "text/plain": [
       "(16874, 11)"
      ]
     },
     "execution_count": 21,
     "metadata": {},
     "output_type": "execute_result"
    }
   ],
   "source": [
    "#Add the bias column for our dataset\n",
    "data = np.hstack((data,np.ones([data.shape[0],1])))\n",
    "data.shape"
   ]
  },
  {
   "cell_type": "markdown",
   "metadata": {
    "id": "mlI5cOcgoeoX"
   },
   "source": [
    "**Conclusion:** At the end of the descriptive analysis chapter, we can note the following points:\n",
    "\n",
    "- Casual and registered contain direct information about the bike sharing count which is to predict (data leakage). Therefore they are not considered in the feature set.\n",
    "- The variables \"temp\" and \"atemp\" are strongly correlated. To reduce the dimensionality of the predictive model, the feature \"atemp\" is dismissed.\n",
    "The variables \"hr\" and \"temp\" seem to be promising features for the bike sharing count prediction.\n"
   ]
  },
  {
   "cell_type": "markdown",
   "metadata": {
    "id": "kakelTgoEaTu"
   },
   "source": [
    "#**MODEL BUILDING**"
   ]
  },
  {
   "cell_type": "code",
   "execution_count": 22,
   "metadata": {
    "id": "-YvyZfqD-N8B"
   },
   "outputs": [],
   "source": [
    "Matrice_Models = []"
   ]
  },
  {
   "cell_type": "markdown",
   "metadata": {
    "id": "m4-iVXNDAlej"
   },
   "source": [
    "#**Split Dataset into TrainSets, TestSets** "
   ]
  },
  {
   "cell_type": "code",
   "execution_count": 23,
   "metadata": {
    "id": "U6CSTIdXB_AB"
   },
   "outputs": [],
   "source": [
    "x_train,x_rest,y_train,y_rest = train_test_split(data,y,test_size = 0.40 ,random_state = 0)\n",
    "x_valid,x_test,y_valid,y_test = train_test_split(data,y,test_size = 0.50 ,random_state = 0)"
   ]
  },
  {
   "cell_type": "code",
   "execution_count": 24,
   "metadata": {
    "id": "2E32strL-G-R"
   },
   "outputs": [],
   "source": [
    "y_train = np.array(y_train)\n",
    "y_train = y_train.reshape(y_train.shape[0],1)\n",
    "y_valid = np.array(y_valid)\n",
    "y_valid = y_valid.reshape(y_valid.shape[0],1)\n",
    "y_test = np.array(y_test)\n",
    "y_test = y_test.reshape(y_test.shape[0],1)"
   ]
  },
  {
   "cell_type": "markdown",
   "metadata": {
    "id": "opPMaVTB7mZA"
   },
   "source": [
    "# **Lineaire Regression**"
   ]
  },
  {
   "cell_type": "code",
   "execution_count": 25,
   "metadata": {
    "id": "Oir5K8bx7oBo"
   },
   "outputs": [],
   "source": [
    "Theta = np.random.randn(x_train.shape[1],1)"
   ]
  },
  {
   "cell_type": "code",
   "execution_count": 26,
   "metadata": {
    "id": "lrIRI5iC818q"
   },
   "outputs": [],
   "source": [
    "def model(X,theta):\n",
    "  return X.dot(theta)"
   ]
  },
  {
   "cell_type": "code",
   "execution_count": 27,
   "metadata": {
    "id": "rCtFIxik866o"
   },
   "outputs": [],
   "source": [
    "def cost_function(X,y,theta):\n",
    "  m = len(y)\n",
    "  return 1/2*m * np.sum((model(X,theta) - y)**2)"
   ]
  },
  {
   "cell_type": "code",
   "execution_count": 28,
   "metadata": {
    "colab": {
     "base_uri": "https://localhost:8080/"
    },
    "id": "-j9pvRhf9Izz",
    "outputId": "2aba7964-14e5-4a50-c8f6-82c3c87d10ac"
   },
   "outputs": [
    {
     "data": {
      "text/plain": [
       "94589696.8320229"
      ]
     },
     "execution_count": 28,
     "metadata": {},
     "output_type": "execute_result"
    }
   ],
   "source": [
    "cost_function(x_train,y_train,Theta)"
   ]
  },
  {
   "cell_type": "code",
   "execution_count": 29,
   "metadata": {
    "id": "yS4WgM6lCtwW"
   },
   "outputs": [],
   "source": [
    "def grad(X,y,theta):\n",
    "  m = len(y)\n",
    "  return 1/m * X.T.dot(model(X,theta) - y)"
   ]
  },
  {
   "cell_type": "code",
   "execution_count": 30,
   "metadata": {
    "id": "6AUUurbeC1Yo"
   },
   "outputs": [],
   "source": [
    "def gradient_decent(X,y,theta, learning_rate, n_iteration):\n",
    "  cost_history = np.zeros(n_iteration)\n",
    "  for i in range(0,n_iteration):\n",
    "    theta = theta - learning_rate * grad(X,y,theta)\n",
    "    cost_history[i] = cost_function(X,y,theta)\n",
    "  return theta, cost_history"
   ]
  },
  {
   "cell_type": "code",
   "execution_count": 31,
   "metadata": {
    "id": "Gu2A9H0qkggO"
   },
   "outputs": [],
   "source": [
    "def coef_determoination(y,pred):\n",
    "  y = np.array(y)\n",
    "  pred = np.array(pred)\n",
    "  u = ((y- pred)**2).sum()\n",
    "  v = ((y-y.mean())**2).sum()\n",
    "  return 1 - u/v"
   ]
  },
  {
   "cell_type": "code",
   "execution_count": 32,
   "metadata": {
    "colab": {
     "base_uri": "https://localhost:8080/"
    },
    "id": "0pScoYOlEZLJ",
    "outputId": "37ef34a8-afb8-4a1c-f2c6-e927024cd2de"
   },
   "outputs": [
    {
     "name": "stdout",
     "output_type": "stream",
     "text": [
      "(10124, 11)\n",
      "(11, 1)\n"
     ]
    }
   ],
   "source": [
    "print(x_train.shape)\n",
    "print(Theta.shape)"
   ]
  },
  {
   "cell_type": "code",
   "execution_count": 46,
   "metadata": {
    "id": "k9xeuLaZC52R"
   },
   "outputs": [
    {
     "ename": "TypeError",
     "evalue": "float() argument must be a string or a number, not 'list'",
     "output_type": "error",
     "traceback": [
      "\u001b[0;31m---------------------------------------------------------------------------\u001b[0m",
      "\u001b[0;31mTypeError\u001b[0m                                 Traceback (most recent call last)",
      "\u001b[0;32m/var/folders/mz/g25fp2sn7_q91dbqs2g3z7900000gp/T/ipykernel_2968/718783695.py\u001b[0m in \u001b[0;36m<module>\u001b[0;34m\u001b[0m\n\u001b[1;32m      4\u001b[0m \u001b[0;32mfor\u001b[0m \u001b[0miteration\u001b[0m\u001b[0;34m,\u001b[0m \u001b[0mlearningRate\u001b[0m \u001b[0;32min\u001b[0m \u001b[0mzip\u001b[0m\u001b[0;34m(\u001b[0m\u001b[0mIterations\u001b[0m\u001b[0;34m,\u001b[0m \u001b[0mLR\u001b[0m\u001b[0;34m)\u001b[0m\u001b[0;34m:\u001b[0m\u001b[0;34m\u001b[0m\u001b[0;34m\u001b[0m\u001b[0m\n\u001b[1;32m      5\u001b[0m   \u001b[0mi\u001b[0m \u001b[0;34m=\u001b[0m \u001b[0mi\u001b[0m\u001b[0;34m+\u001b[0m\u001b[0;36m1\u001b[0m\u001b[0;34m\u001b[0m\u001b[0;34m\u001b[0m\u001b[0m\n\u001b[0;32m----> 6\u001b[0;31m   \u001b[0mTheta__Final\u001b[0m\u001b[0;34m,\u001b[0m \u001b[0mcost_history\u001b[0m \u001b[0;34m=\u001b[0m \u001b[0mgradient_decent\u001b[0m\u001b[0;34m(\u001b[0m\u001b[0mx_train\u001b[0m\u001b[0;34m,\u001b[0m\u001b[0my_train\u001b[0m\u001b[0;34m,\u001b[0m\u001b[0mTheta\u001b[0m\u001b[0;34m,\u001b[0m\u001b[0mlearning_rate\u001b[0m\u001b[0;34m=\u001b[0m\u001b[0mfloat\u001b[0m\u001b[0;34m(\u001b[0m\u001b[0mLR\u001b[0m\u001b[0;34m)\u001b[0m\u001b[0;34m,\u001b[0m\u001b[0mn_iteration\u001b[0m\u001b[0;34m=\u001b[0m\u001b[0mint\u001b[0m\u001b[0;34m(\u001b[0m\u001b[0mIterations\u001b[0m\u001b[0;34m)\u001b[0m\u001b[0;34m)\u001b[0m\u001b[0;34m\u001b[0m\u001b[0;34m\u001b[0m\u001b[0m\n\u001b[0m\u001b[1;32m      7\u001b[0m   \u001b[0my_pred_train\u001b[0m \u001b[0;34m=\u001b[0m \u001b[0mmodel\u001b[0m\u001b[0;34m(\u001b[0m\u001b[0mx_train\u001b[0m\u001b[0;34m,\u001b[0m\u001b[0mTheta__Final\u001b[0m\u001b[0;34m)\u001b[0m\u001b[0;34m\u001b[0m\u001b[0;34m\u001b[0m\u001b[0m\n\u001b[1;32m      8\u001b[0m   \u001b[0my_pred_valid\u001b[0m \u001b[0;34m=\u001b[0m \u001b[0mmodel\u001b[0m\u001b[0;34m(\u001b[0m\u001b[0mx_valid\u001b[0m\u001b[0;34m,\u001b[0m\u001b[0mTheta__Final\u001b[0m\u001b[0;34m)\u001b[0m\u001b[0;34m\u001b[0m\u001b[0;34m\u001b[0m\u001b[0m\n",
      "\u001b[0;31mTypeError\u001b[0m: float() argument must be a string or a number, not 'list'"
     ]
    }
   ],
   "source": [
    "Iterations = ['2000', '1000', '1000']\n",
    "LR = ['0.7', '0.09', '0.3']\n",
    "i = 0\n",
    "for iteration, learningRate in zip(Iterations, LR):\n",
    "  i = i+1\n",
    "  Theta__Final, cost_history = gradient_decent(x_train,y_train,Theta,learning_rate=float(LR),n_iteration=int(Iterations))\n",
    "  y_pred_train = model(x_train,Theta__Final)   \n",
    "  y_pred_valid = model(x_valid,Theta__Final)\n",
    "  y_pred_test = model(x_test,Theta__Final) \n",
    "  # Calculation of Mean Squared Error (MSE)mean_squared_error(Y_true,Y_pred)\n",
    "  print('Training coef_determoination ',i,':', coef_determoination(y_train, y_pred_train))\n",
    "  print('Validation coef_determoination ',i,':', coef_determoination(y_valid, y_pred_valid))\n",
    "  print('Test coef_determoination ',i,':', coef_determoination(y_test, y_pred_test))\n",
    "  score_gradient_decent = coef_determoination(y_test, y_pred_test)*100\n"
   ]
  },
  {
   "cell_type": "code",
   "execution_count": null,
   "metadata": {
    "id": "MzGBUquUFGzQ"
   },
   "outputs": [],
   "source": [
    "plt.plot(range(10000), cost_history)"
   ]
  },
  {
   "cell_type": "markdown",
   "metadata": {
    "id": "hSLjeYy212nE"
   },
   "source": [
    "#**Normal Equation in Linear Regression**"
   ]
  },
  {
   "cell_type": "code",
   "execution_count": 35,
   "metadata": {
    "id": "AyQfaU9g13XI"
   },
   "outputs": [
    {
     "name": "stdout",
     "output_type": "stream",
     "text": [
      "(10124, 11)\n",
      "(11, 10124)\n",
      "(11, 11)\n",
      "(11, 11)\n",
      "(11, 1)\n",
      "[[-0.01422609]\n",
      " [-0.52555954]\n",
      " [-0.3430823 ]\n",
      " [ 0.33134518]\n",
      " [-0.24021539]\n",
      " [-0.14432198]\n",
      " [-0.31966931]\n",
      " [ 2.72532061]\n",
      " [-1.03210586]\n",
      " [-1.03960624]\n",
      " [ 1.05551523]]\n"
     ]
    }
   ],
   "source": [
    "theta_best_values=np.linalg.inv(x_train.T.dot(x_train)).dot((x_train.T).dot(y_train))\n",
    "print(x_train.shape)\n",
    "print(x_train.T.shape)\n",
    "print(x_train.T.dot(x_train).shape)\n",
    "print(np.linalg.inv(x_train.T.dot(x_train)).shape)\n",
    "print(x_train.T.dot(y_train).shape)\n",
    "# Display best values obtained.\n",
    "print(theta_best_values)"
   ]
  },
  {
   "cell_type": "code",
   "execution_count": 36,
   "metadata": {
    "id": "qBkPg0jn3FwZ"
   },
   "outputs": [],
   "source": [
    "y_pred_train = model(x_train,theta_best_values)  \n",
    "y_pred_valid = model(x_valid,theta_best_values)  \n",
    "y_pred_test = model(x_test,theta_best_values)  "
   ]
  },
  {
   "cell_type": "code",
   "execution_count": 37,
   "metadata": {
    "id": "YdyYhIFX3Nl8"
   },
   "outputs": [
    {
     "name": "stdout",
     "output_type": "stream",
     "text": [
      "Training coef_determoination : 0.8810143356309748\n",
      "Validation coef_determoination : 0.8806402013004401\n",
      "Test coef_determoination : 0.8785151723849118\n"
     ]
    }
   ],
   "source": [
    "# Calculation of Mean Squared Error (MSE)mean_squared_error(Y_true,Y_pred)\n",
    "print('Training coef_determoination :', coef_determoination(y_train, y_pred_train))\n",
    "print('Validation coef_determoination :', coef_determoination(y_valid, y_pred_valid))\n",
    "print('Test coef_determoination :', coef_determoination(y_test, y_pred_test))\n",
    "score_equation_normal = coef_determoination(y_test, y_pred_test)*100"
   ]
  },
  {
   "cell_type": "markdown",
   "metadata": {
    "id": "u7M8do7NYJ_C"
   },
   "source": [
    "********************************************************************************************"
   ]
  },
  {
   "cell_type": "markdown",
   "metadata": {
    "id": "NIfDT6avVCP4"
   },
   "source": [
    "#**Polynomial regression using Sklearn**"
   ]
  },
  {
   "cell_type": "code",
   "execution_count": 38,
   "metadata": {
    "id": "JQ0s4jVLeyGr"
   },
   "outputs": [
    {
     "name": "stdout",
     "output_type": "stream",
     "text": [
      "Training coef_determoination : 0.9974987656803157\n",
      "Validation coef_determoination : 0.9974806301282995\n",
      "Test coef_determoination : 0.9900800075221171\n"
     ]
    }
   ],
   "source": [
    "polynomial_features = PolynomialFeatures(degree=3)\n",
    "\n",
    "x_poly = polynomial_features.fit_transform(x_train)\n",
    "x_poly_valid = polynomial_features.fit_transform(x_valid)\n",
    "x_poly_test = polynomial_features.fit_transform(x_test)\n",
    "\n",
    "LinearRegression = LinearRegression()\n",
    "LinearRegression.fit(x_poly, y_train)\n",
    "Y_pred = LinearRegression.predict(x_poly_test)\n",
    "# Calculation of Mean Squared Error (MSE)mean_squared_error(Y_true,Y_pred)\n",
    "print('Training coef_determoination :', LinearRegression.score(x_poly,y_train))\n",
    "print('Validation coef_determoination :', LinearRegression.score(x_poly_valid,y_valid))\n",
    "print('Test coef_determoination :', LinearRegression.score(x_poly_test,y_test))\n",
    "score_polynomial_regression = LinearRegression.score(x_poly_test,y_test)*100"
   ]
  },
  {
   "cell_type": "code",
   "execution_count": 39,
   "metadata": {
    "id": "HKws-Aa3rGkC"
   },
   "outputs": [
    {
     "name": "stdout",
     "output_type": "stream",
     "text": [
      "Training coef_determoination : 0.9999779544873428\n",
      "Validation coef_determoination : 0.9999783503673187\n",
      "Test coef_determoination : -114145.39132984969\n"
     ]
    }
   ],
   "source": [
    "from sklearn.linear_model import LinearRegression\n",
    "polynomial_features = PolynomialFeatures(degree=5)\n",
    "\n",
    "x_poly = polynomial_features.fit_transform(x_train)\n",
    "x_poly_valid = polynomial_features.fit_transform(x_valid)\n",
    "x_poly_test = polynomial_features.fit_transform(x_test)\n",
    "\n",
    "LinearRegression = LinearRegression()\n",
    "LinearRegression.fit(x_poly, y_train)\n",
    "Y_pred = LinearRegression.predict(x_poly_test)\n",
    "# Calculation of Mean Squared Error (MSE)mean_squared_error(Y_true,Y_pred)\n",
    "print('Training coef_determoination :', LinearRegression.score(x_poly,y_train))\n",
    "print('Validation coef_determoination :', LinearRegression.score(x_poly_valid,y_valid))\n",
    "print('Test coef_determoination :', LinearRegression.score(x_poly_test,y_test))\n",
    "score_polynomial_regression = LinearRegression.score(x_poly_test,y_test)*100"
   ]
  },
  {
   "cell_type": "markdown",
   "metadata": {
    "id": "5GmHJ3mzwpKq"
   },
   "source": [
    "********************************************************************************************"
   ]
  },
  {
   "cell_type": "markdown",
   "metadata": {
    "id": "oFkhfQTopvFy"
   },
   "source": [
    "#**SVR**"
   ]
  },
  {
   "cell_type": "code",
   "execution_count": 40,
   "metadata": {
    "id": "ZXefAxWFpugM"
   },
   "outputs": [
    {
     "name": "stderr",
     "output_type": "stream",
     "text": [
      "/Users/macuser/opt/anaconda3/lib/python3.9/site-packages/sklearn/utils/validation.py:63: DataConversionWarning: A column-vector y was passed when a 1d array was expected. Please change the shape of y to (n_samples, ), for example using ravel().\n",
      "  return f(*args, **kwargs)\n"
     ]
    },
    {
     "name": "stdout",
     "output_type": "stream",
     "text": [
      "Training coef_determoination : 0.9396268322945328\n",
      "Validation coef_determoination : 0.9390337137867694\n",
      "Test coef_determoination : 0.9401175805582439\n"
     ]
    }
   ],
   "source": [
    "modelsk = SVR(C=100)\n",
    "modelsk.fit(x_train,y_train)\n",
    "print('Training coef_determoination :', modelsk.score(x_train,y_train))\n",
    "print('Validation coef_determoination :', modelsk.score(x_valid,y_valid))\n",
    "print('Test coef_determoination :', modelsk.score(x_test,y_test))\n",
    "score_svr = modelsk.score(x_test,y_test)*100"
   ]
  },
  {
   "cell_type": "markdown",
   "metadata": {
    "id": "8ZZrNg4gdGmU"
   },
   "source": [
    "#**ANN**"
   ]
  },
  {
   "cell_type": "code",
   "execution_count": 41,
   "metadata": {
    "id": "V-mhl2pG9Ncs"
   },
   "outputs": [
    {
     "name": "stderr",
     "output_type": "stream",
     "text": [
      "/Users/macuser/opt/anaconda3/lib/python3.9/site-packages/sklearn/utils/validation.py:63: DataConversionWarning: A column-vector y was passed when a 1d array was expected. Please change the shape of y to (n_samples, ), for example using ravel().\n",
      "  return f(*args, **kwargs)\n"
     ]
    },
    {
     "name": "stdout",
     "output_type": "stream",
     "text": [
      "Training coef_determoination : 0.9975896094929851\n",
      "Validation coef_determoination : 0.9975682457068182\n",
      "Test coef_determoination : 0.9974570514894026\n"
     ]
    }
   ],
   "source": [
    "from sklearn.neural_network import MLPRegressor\n",
    "regr = MLPRegressor((150,150,150), random_state=1, max_iter=100).fit(x_train, y_train)\n",
    "print('Training coef_determoination :', regr.score(x_train, y_train))\n",
    "print('Validation coef_determoination :', regr.score(x_valid, y_valid))\n",
    "print('Test coef_determoination :', regr.score(x_test, y_test))\n",
    "score_ann = regr.score(x_test,y_test)*100"
   ]
  },
  {
   "cell_type": "code",
   "execution_count": 42,
   "metadata": {
    "id": "dXbYvR64uGPQ"
   },
   "outputs": [
    {
     "name": "stderr",
     "output_type": "stream",
     "text": [
      "/Users/macuser/opt/anaconda3/lib/python3.9/site-packages/sklearn/utils/validation.py:63: DataConversionWarning: A column-vector y was passed when a 1d array was expected. Please change the shape of y to (n_samples, ), for example using ravel().\n",
      "  return f(*args, **kwargs)\n"
     ]
    },
    {
     "name": "stdout",
     "output_type": "stream",
     "text": [
      "Training coef_determoination : 0.985791061560694\n",
      "Validation coef_determoination : 0.9854301078867203\n",
      "Test coef_determoination : 0.9848027309206034\n"
     ]
    }
   ],
   "source": [
    "from sklearn.neural_network import MLPRegressor\n",
    "regr = MLPRegressor((150), random_state=1, max_iter=100).fit(x_train, y_train)\n",
    "print('Training coef_determoination :', regr.score(x_train, y_train))\n",
    "print('Validation coef_determoination :', regr.score(x_valid, y_valid))\n",
    "print('Test coef_determoination :', regr.score(x_test, y_test))\n",
    "score_ann = regr.score(x_test,y_test)*100"
   ]
  },
  {
   "cell_type": "code",
   "execution_count": 43,
   "metadata": {
    "id": "EwU5uYfb0JzO"
   },
   "outputs": [
    {
     "ename": "NameError",
     "evalue": "name 'score_gradient_decent' is not defined",
     "output_type": "error",
     "traceback": [
      "\u001b[0;31m---------------------------------------------------------------------------\u001b[0m",
      "\u001b[0;31mNameError\u001b[0m                                 Traceback (most recent call last)",
      "\u001b[0;32m/var/folders/mz/g25fp2sn7_q91dbqs2g3z7900000gp/T/ipykernel_2968/1224328219.py\u001b[0m in \u001b[0;36m<module>\u001b[0;34m\u001b[0m\n\u001b[0;32m----> 1\u001b[0;31m \u001b[0mScores\u001b[0m \u001b[0;34m=\u001b[0m \u001b[0;34m[\u001b[0m\u001b[0mscore_gradient_decent\u001b[0m\u001b[0;34m,\u001b[0m \u001b[0mscore_equation_normal\u001b[0m\u001b[0;34m,\u001b[0m \u001b[0mscore_polynomial_regression\u001b[0m\u001b[0;34m,\u001b[0m \u001b[0mscore_svr\u001b[0m\u001b[0;34m,\u001b[0m \u001b[0mscore_ann\u001b[0m\u001b[0;34m]\u001b[0m\u001b[0;34m\u001b[0m\u001b[0;34m\u001b[0m\u001b[0m\n\u001b[0m\u001b[1;32m      2\u001b[0m \u001b[0mScores\u001b[0m\u001b[0;34m\u001b[0m\u001b[0;34m\u001b[0m\u001b[0m\n",
      "\u001b[0;31mNameError\u001b[0m: name 'score_gradient_decent' is not defined"
     ]
    }
   ],
   "source": [
    "Scores = [score_gradient_decent, score_equation_normal, score_polynomial_regression, score_svr, score_ann] \n",
    "Scores"
   ]
  },
  {
   "cell_type": "code",
   "execution_count": null,
   "metadata": {
    "id": "Cze_JpeWxXYi"
   },
   "outputs": [],
   "source": [
    "import matplotlib.pyplot as plt \n",
    "  \n",
    "# x-coordinates of left sides of bars  \n",
    "x = [1, 2, 3, 4, 5]  \n",
    "# heights of bars \n",
    "y = [score_gradient_decent, score_equation_normal, score_polynomial_regression, score_svr, score_ann] \n",
    "  \n",
    "# labels for bars \n",
    "tick_label =  [\"GD\", \"EN\", \"POL\", \"SVR\", \"ANN\"] \n",
    "  \n",
    "# plotting a bar chart \n",
    "plt.bar(x, y, tick_label = tick_label, \n",
    "        width = 0.5, color = ['black', 'black','black','black','red']) \n",
    "  \n",
    "# naming the x-axis \n",
    "plt.xlabel('Models') \n",
    "# naming the y-axis \n",
    "plt.ylabel('Scores') \n",
    "# plot title \n",
    "plt.title('Models Comparaison') \n",
    "  \n",
    "# function to show the plot \n",
    "plt.show()"
   ]
  },
  {
   "cell_type": "markdown",
   "metadata": {
    "id": "WUvF7vWA6WjB"
   },
   "source": [
    "#**Experience without Preprocessing phase**"
   ]
  },
  {
   "cell_type": "code",
   "execution_count": null,
   "metadata": {
    "id": "g0qlkezH6cpj"
   },
   "outputs": [],
   "source": [
    "dataNP = pd.read_csv('hour.csv')\n",
    "dataNP"
   ]
  },
  {
   "cell_type": "code",
   "execution_count": null,
   "metadata": {
    "id": "SHj_PB7y6g8A"
   },
   "outputs": [],
   "source": [
    "category_features = ['season', 'holiday', 'mnth', 'hr', 'weekday', 'workingday', 'weathersit']\n",
    "number_features = ['temp', 'atemp', 'hum', 'windspeed']"
   ]
  },
  {
   "cell_type": "code",
   "execution_count": null,
   "metadata": {
    "id": "TgWO6ry7BV3E"
   },
   "outputs": [],
   "source": [
    "print(\"Samples in train set with outliers: {}\".format(len(dataNP)))\n",
    "q1 = dataNP.cnt.quantile(0.25)\n",
    "q3 = dataNP.cnt.quantile(0.75)\n",
    "iqr = q3 - q1\n",
    "lower_bound = q1 -(1.5 * iqr) \n",
    "upper_bound = q3 +(1.5 * iqr) \n",
    "data_without_outlier = dataNP.loc[(dataNP.cnt >= lower_bound) & (dataNP.cnt <= upper_bound)]\n",
    "print(\"Samples in train set without outliers: {}\".format(len(data_without_outlier)))\n",
    "\n",
    "sns.distplot(data_without_outlier.cnt);\n"
   ]
  },
  {
   "cell_type": "code",
   "execution_count": null,
   "metadata": {
    "id": "Q4PKbDor6q-N"
   },
   "outputs": [],
   "source": [
    "dataNP = dataNP.rename(columns={'yr':'year',\n",
    "                            'mnth':'month',\n",
    "                            'weathersit':'weather',\n",
    "                            'hr':'hour',\n",
    "                            'hum':'humidity',\n",
    "                            'cnt':'count'})"
   ]
  },
  {
   "cell_type": "code",
   "execution_count": null,
   "metadata": {
    "id": "VFbP4ClS6xEy"
   },
   "outputs": [],
   "source": [
    "dataNP =pd.DataFrame(dataNP,columns=['season','month','hour','holiday','weekday','workingday','weather','temp','humidity','windspeed','count'])\n",
    "dataNP.head()"
   ]
  },
  {
   "cell_type": "code",
   "execution_count": null,
   "metadata": {
    "id": "kgifXCvpBY0F"
   },
   "outputs": [],
   "source": [
    "dataNP = data_without_outlier"
   ]
  },
  {
   "cell_type": "code",
   "execution_count": null,
   "metadata": {
    "id": "YRD-QB-_88hO"
   },
   "outputs": [],
   "source": [
    "dataNP = np.array(dataNP)"
   ]
  },
  {
   "cell_type": "code",
   "execution_count": null,
   "metadata": {
    "id": "xwK5v3Q8642y"
   },
   "outputs": [],
   "source": [
    "yNP = dataNP[:,-1] # Outputs\n",
    "dataNP = dataNP[:,:-2] # Remove the coloumn of outputs from datasets\n",
    "print(\"Data shape : \", dataNP.shape)\n",
    "print(\"Target shape : \", yNP.shape)"
   ]
  },
  {
   "cell_type": "code",
   "execution_count": null,
   "metadata": {
    "id": "5N4gj44s7CV3"
   },
   "outputs": [],
   "source": [
    "#regler les demesions de y\n",
    "yNP = np.array(yNP)\n",
    "yNP =yNP.reshape(dataNP.shape[0],1)\n",
    "print(yNP.shape)"
   ]
  },
  {
   "cell_type": "code",
   "execution_count": null,
   "metadata": {
    "id": "H6VYxwId7EVy"
   },
   "outputs": [],
   "source": [
    "#Add the bias column for our dataset\n",
    "dataNP = np.hstack((data,np.ones([data.shape[0],1])))\n",
    "dataNP.shape"
   ]
  },
  {
   "cell_type": "code",
   "execution_count": null,
   "metadata": {
    "id": "SN5A5Tl77G4_"
   },
   "outputs": [],
   "source": [
    "x_trainNP,x_restNP,y_trainNP,y_restNP = train_test_split(dataNP,yNP,test_size = 0.40 ,random_state = 0)\n",
    "x_validNP,x_testNP,y_validNP,y_testNP = train_test_split(dataNP,yNP,test_size = 0.50 ,random_state = 0)"
   ]
  },
  {
   "cell_type": "code",
   "execution_count": null,
   "metadata": {
    "id": "xjx_5gHM7VQC"
   },
   "outputs": [],
   "source": [
    "y_trainNP = np.array(y_trainNP)\n",
    "y_trainNP = y_trainNP.reshape(y_trainNP.shape[0],1)\n",
    "y_validNP = np.array(y_validNP)\n",
    "y_validNP = y_validNP.reshape(y_validNP.shape[0],1)\n",
    "y_testNP = np.array(y_testNP)\n",
    "y_testNP = y_testNP.reshape(y_testNP.shape[0],1)"
   ]
  },
  {
   "cell_type": "markdown",
   "metadata": {
    "id": "YLhNIBsa7iIG"
   },
   "source": [
    "#**Lineaire Regression**"
   ]
  },
  {
   "cell_type": "code",
   "execution_count": null,
   "metadata": {
    "id": "QxnVHqNz7jrq"
   },
   "outputs": [],
   "source": [
    "ThetaNP = np.random.randn(x_trainNP.shape[1],1)"
   ]
  },
  {
   "cell_type": "code",
   "execution_count": null,
   "metadata": {
    "id": "94uyg6Sl7nRK"
   },
   "outputs": [],
   "source": [
    "cost_function(x_trainNP,y_trainNP,ThetaNP)"
   ]
  },
  {
   "cell_type": "code",
   "execution_count": null,
   "metadata": {
    "id": "wnneBg4N7th0"
   },
   "outputs": [],
   "source": [
    "print(x_trainNP.shape)\n",
    "print(ThetaNP.shape)"
   ]
  },
  {
   "cell_type": "code",
   "execution_count": null,
   "metadata": {
    "id": "OhUXX2Rw7wG_"
   },
   "outputs": [],
   "source": [
    "Theta__FinalNP, cost_historyNP = gradient_decent(x_trainNP,y_trainNP,ThetaNP,learning_rate=0.7,n_iteration=10000)"
   ]
  },
  {
   "cell_type": "code",
   "execution_count": null,
   "metadata": {
    "id": "rikDkRey72tj"
   },
   "outputs": [],
   "source": [
    "y_pred_trainNP = model(x_trainNP,Theta__FinalNP)   \n",
    "y_pred_validNP = model(x_validNP,Theta__FinalNP)\n",
    "y_pred_testNP = model(x_testNP,Theta__FinalNP) "
   ]
  },
  {
   "cell_type": "code",
   "execution_count": null,
   "metadata": {
    "id": "6zp7dVf178pu"
   },
   "outputs": [],
   "source": [
    "plt.plot(range(10000), cost_historyNP)"
   ]
  },
  {
   "cell_type": "code",
   "execution_count": null,
   "metadata": {
    "id": "sMOgB9_W8C0K"
   },
   "outputs": [],
   "source": [
    "# Calculation of Mean Squared Error (MSE)mean_squared_error(Y_true,Y_pred)\n",
    "print('Training coef_determoination :', coef_determoination(y_trainNP, y_pred_trainNP))\n",
    "print('Validation coef_determoination :', coef_determoination(y_validNP, y_pred_validNP))\n",
    "print('Test coef_determoination :', coef_determoination(y_testNP, y_pred_testNP))\n",
    "score_gradient_decentNP = coef_determoination(y_testNP, y_pred_testNP)*100"
   ]
  },
  {
   "cell_type": "markdown",
   "metadata": {
    "id": "5IjtPtbcD4J0"
   },
   "source": [
    "#**Polynomial regression using Sklearn**"
   ]
  },
  {
   "cell_type": "code",
   "execution_count": null,
   "metadata": {
    "id": "hKykZ8sXD7WF"
   },
   "outputs": [],
   "source": [
    "from sklearn.linear_model import LinearRegression\n",
    "\n",
    "polynomial_features = PolynomialFeatures(degree=3)\n",
    "x_polyNP = polynomial_features.fit_transform(x_trainNP)\n",
    "x_poly_validNP = polynomial_features.fit_transform(x_validNP)\n",
    "x_poly_testNP = polynomial_features.fit_transform(x_testNP)\n",
    "\n",
    "LinearRegressionNP = LinearRegression()\n",
    "LinearRegressionNP.fit(x_polyNP, y_trainNP)\n",
    "Y_predNP = LinearRegressionNP.predict(x_poly_testNP)\n",
    "# Calculation of Mean Squared Error (MSE)mean_squared_error(Y_true,Y_pred)\n",
    "print('Training coef_determoination :', LinearRegressionNP.score(x_polyNP,y_trainNP))\n",
    "print('Validation coef_determoination :', LinearRegressionNP.score(x_poly_validNP,y_validNP))\n",
    "print('Test coef_determoination :', LinearRegressionNP.score(x_poly_testNP,y_testNP))\n",
    "score_polynomial_regression = LinearRegressionNP.score(x_poly_testNP,y_testNP)*100"
   ]
  },
  {
   "cell_type": "markdown",
   "metadata": {
    "id": "4QSiiJ6FETug"
   },
   "source": [
    "#**SVR**"
   ]
  },
  {
   "cell_type": "code",
   "execution_count": null,
   "metadata": {
    "id": "mj0Q8VJ5ETJ_"
   },
   "outputs": [],
   "source": [
    "modelsk = SVR(C=100)\n",
    "modelsk.fit(x_trainNP,y_trainNP)\n",
    "print('Training coef_determoination :', modelsk.score(x_trainNP,y_trainNP))\n",
    "print('Validation coef_determoination :', modelsk.score(x_validNP,y_validNP))\n",
    "print('Test coef_determoination :', modelsk.score(x_testNP,y_testNP))\n",
    "score_svr = modelsk.score(x_testNP,y_testNP)*100"
   ]
  },
  {
   "cell_type": "markdown",
   "metadata": {
    "id": "qa5UjuoyL4Ju"
   },
   "source": [
    "#**ANN**"
   ]
  },
  {
   "cell_type": "code",
   "execution_count": null,
   "metadata": {
    "id": "j5q__HS-GgQE"
   },
   "outputs": [],
   "source": [
    "from sklearn.neural_network import MLPRegressor\n",
    "regr = MLPRegressor((150,150,150), random_state=1, max_iter=100).fit(x_trainNP, y_trainNP)\n",
    "print('Training coef_determoination :', regr.score(x_trainNP, y_trainNP))\n",
    "print('Validation coef_determoination :', regr.score(x_validNP, y_validNP))\n",
    "print('Test coef_determoination :', regr.score(x_testNP, y_testNP))\n",
    "score_ann = regr.score(x_testNP,y_testNP)*100"
   ]
  },
  {
   "cell_type": "markdown",
   "metadata": {
    "id": "WEou6Po98Xq2"
   },
   "source": [
    "#**Normal Equation in Linear Regression**"
   ]
  },
  {
   "cell_type": "code",
   "execution_count": null,
   "metadata": {
    "id": "gNmStph48XH3"
   },
   "outputs": [],
   "source": [
    "theta_best_valuesNP=np.linalg.inv(x_trainNP.T.dot(x_trainNP)).dot((x_trainNP.T).dot(y_trainNP))\n",
    "print(x_trainNP.shape)\n",
    "print(x_trainNP.T.shape)\n",
    "print(x_trainNP.T.dot(x_trainNP).shape)\n",
    "print(np.linalg.inv(x_trainNP.T.dot(x_trainNP)).shape)\n",
    "print(x_trainNP.T.dot(y_trainNP).shape)\n",
    "# Display best values obtained.\n",
    "print(theta_best_valuesNP)\n",
    "y_pred_trainNP = model(x_trainNP,theta_best_valuesNP)  \n",
    "y_pred_validNP = model(x_validNP,theta_best_valuesNP)  \n",
    "y_pred_testNP = model(x_testNP,theta_best_valuesNP)\n",
    "# Calculation of Mean Squared Error (MSE)mean_squared_error(Y_true,Y_pred)\n",
    "print('Training coef_determoination :', coef_determoination(y_trainNP, y_pred_trainNP))\n",
    "print('Validation coef_determoination :', coef_determoination(y_validNP, y_pred_validNP))\n",
    "print('Test coef_determoination :', coef_determoination(y_testNP, y_pred_testNP))\n",
    "score_equation_normal = coef_determoination(y_testNP, y_pred_testNP)*100 "
   ]
  },
  {
   "cell_type": "code",
   "execution_count": null,
   "metadata": {
    "id": "9jI5EU_27BzJ"
   },
   "outputs": [],
   "source": []
  },
  {
   "cell_type": "code",
   "execution_count": null,
   "metadata": {
    "id": "IAqx_1a77JKU"
   },
   "outputs": [],
   "source": []
  },
  {
   "cell_type": "code",
   "execution_count": null,
   "metadata": {},
   "outputs": [],
   "source": []
  },
  {
   "cell_type": "code",
   "execution_count": null,
   "metadata": {},
   "outputs": [],
   "source": []
  }
 ],
 "metadata": {
  "colab": {
   "collapsed_sections": [],
   "name": "Regression-problem",
   "provenance": []
  },
  "kernelspec": {
   "display_name": "Python 3 (ipykernel)",
   "language": "python",
   "name": "python3"
  },
  "language_info": {
   "codemirror_mode": {
    "name": "ipython",
    "version": 3
   },
   "file_extension": ".py",
   "mimetype": "text/x-python",
   "name": "python",
   "nbconvert_exporter": "python",
   "pygments_lexer": "ipython3",
   "version": "3.9.7"
  }
 },
 "nbformat": 4,
 "nbformat_minor": 1
}
