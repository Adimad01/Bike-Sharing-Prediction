{
 "cells": [
  {
   "cell_type": "markdown",
   "metadata": {
    "id": "1lSRDxvnCM0Q"
   },
   "source": [
    "#**Import Libraries, Models ...**"
   ]
  },
  {
   "cell_type": "code",
   "execution_count": null,
   "metadata": {
    "id": "G0Ra7yw47YU7"
   },
   "outputs": [],
   "source": [
    "import numpy as np\n",
    "import matplotlib.pyplot as plt\n",
    "import pandas as pd\n",
    "import seaborn as sns\n",
    "from sklearn.preprocessing import PolynomialFeatures\n",
    "from sklearn.model_selection import train_test_split\n",
    "from sklearn import preprocessing\n",
    "from sklearn.metrics import mean_squared_error, mean_absolute_error\n",
    "from keras.models import Sequential\n",
    "from tensorflow.keras.layers import Dense\n",
    "from sklearn.tree import DecisionTreeClassifier\n",
    "from sklearn.svm import SVR\n",
    "from sklearn.linear_model import LinearRegression\n",
    "from sklearn.model_selection import learning_curve\n",
    "from sklearn.preprocessing import PolynomialFeatures\n",
    "from sklearn.pipeline import make_pipeline"
   ]
  },
  {
   "cell_type": "markdown",
   "metadata": {
    "id": "VVSaQx2m9Bse"
   },
   "source": [
    "#**1 - Read datasets**"
   ]
  },
  {
   "cell_type": "code",
   "execution_count": null,
   "metadata": {
    "colab": {
     "base_uri": "https://localhost:8080/",
     "height": 423
    },
    "id": "DqkLbctB63Oc",
    "outputId": "35eca036-0b67-45d8-d094-ac7b0ca77997"
   },
   "outputs": [],
   "source": [
    "data = pd.read_csv('hour.csv')\n",
    "data"
   ]
  },
  {
   "cell_type": "code",
   "execution_count": null,
   "metadata": {
    "colab": {
     "base_uri": "https://localhost:8080/",
     "height": 80
    },
    "id": "S1_KGImV3KFW",
    "outputId": "27ea0ae2-73f8-4a9e-d35e-0aad0ac15e94"
   },
   "outputs": [],
   "source": [
    "data.head(1)"
   ]
  },
  {
   "cell_type": "markdown",
   "metadata": {
    "id": "F1kkTqYQmSFr"
   },
   "source": [
    "#**Get column names of the dataset**\n",
    "\n"
   ]
  },
  {
   "cell_type": "code",
   "execution_count": null,
   "metadata": {
    "colab": {
     "base_uri": "https://localhost:8080/",
     "height": 300
    },
    "id": "sfYqWzYemUmK",
    "outputId": "052b40f2-09cf-4287-8e13-2fc68b75184a"
   },
   "outputs": [],
   "source": [
    "category_features = ['season', 'holiday', 'mnth', 'hr', 'weekday', 'workingday', 'weathersit']\n",
    "number_features = ['temp', 'atemp', 'hum', 'windspeed']\n",
    "data[number_features].describe()"
   ]
  },
  {
   "cell_type": "markdown",
   "metadata": {
    "id": "4yh2hc1ImXY6"
   },
   "source": [
    "#**Ensure all the types of variables before doing training, in the case there are qualitative values, the encoding is applied.**"
   ]
  },
  {
   "cell_type": "code",
   "execution_count": null,
   "metadata": {
    "colab": {
     "base_uri": "https://localhost:8080/"
    },
    "id": "9xLRXH6KmbM9",
    "outputId": "5ba19604-ae65-4c0c-aa4b-e147d889035a"
   },
   "outputs": [],
   "source": [
    "data.info()"
   ]
  },
  {
   "cell_type": "markdown",
   "metadata": {
    "id": "T-6iPhnh9y8P"
   },
   "source": [
    "#**Check for null values**\n"
   ]
  },
  {
   "cell_type": "code",
   "execution_count": null,
   "metadata": {
    "colab": {
     "base_uri": "https://localhost:8080/"
    },
    "id": "g7uYXUDBDTXf",
    "outputId": "b96081e8-5d60-4b2c-9724-4ee93edba775"
   },
   "outputs": [],
   "source": [
    "data.isnull().sum()"
   ]
  },
  {
   "cell_type": "markdown",
   "metadata": {
    "id": "lZXVnlfMDQfV"
   },
   "source": [
    "#**PRE-PROCESSING PHASE**"
   ]
  },
  {
   "cell_type": "markdown",
   "metadata": {
    "id": "3uVwVwxIj2Db"
   },
   "source": [
    "#**Remove outliers from data**"
   ]
  },
  {
   "cell_type": "markdown",
   "metadata": {
    "id": "i7IklaE295k3"
   },
   "source": [
    "#**Detecting outliers using Box plots**"
   ]
  },
  {
   "cell_type": "code",
   "execution_count": null,
   "metadata": {
    "colab": {
     "base_uri": "https://localhost:8080/",
     "height": 946
    },
    "id": "JeUfq_X0rgSR",
    "outputId": "bd5ae81e-3043-420b-8cb5-3d4364065f47"
   },
   "outputs": [],
   "source": [
    "fig, axes = plt.subplots(nrows=3,ncols=2)\n",
    "fig.set_size_inches(15, 15)\n",
    "sns.boxplot(data=data,y=\"cnt\",orient=\"v\",ax=axes[0][0])\n",
    "sns.boxplot(data=data,y=\"cnt\",x=\"mnth\",orient=\"v\",ax=axes[0][1])\n",
    "sns.boxplot(data=data,y=\"cnt\",x=\"weathersit\",orient=\"v\",ax=axes[1][0])\n",
    "sns.boxplot(data=data,y=\"cnt\",x=\"workingday\",orient=\"v\",ax=axes[1][1])\n",
    "sns.boxplot(data=data,y=\"cnt\",x=\"hr\",orient=\"v\",ax=axes[2][0])\n",
    "sns.boxplot(data=data,y=\"cnt\",x=\"temp\",orient=\"v\",ax=axes[2][1])\n",
    "\n",
    "axes[0][0].set(ylabel='Count',title=\"Box Plot On Count\")\n",
    "axes[0][1].set(xlabel='Month', ylabel='Count',title=\"Box Plot On Count Across Months\")\n",
    "axes[1][0].set(xlabel='Weather Situation', ylabel='Count',title=\"Box Plot On Count Across Weather Situations\")\n",
    "axes[1][1].set(xlabel='Working Day', ylabel='Count',title=\"Box Plot On Count Across Working Day\")\n",
    "axes[2][0].set(xlabel='Hour Of The Day', ylabel='Count',title=\"Box Plot On Count Across Hour Of The Day\")\n",
    "axes[2][1].set(xlabel='Temperature', ylabel='Count',title=\"Box Plot On Count Across Temperature\")"
   ]
  },
  {
   "cell_type": "markdown",
   "metadata": {
    "id": "62SBqoUI-Cn0"
   },
   "source": [
    "#**Remove outliers**"
   ]
  },
  {
   "cell_type": "code",
   "execution_count": null,
   "metadata": {
    "colab": {
     "base_uri": "https://localhost:8080/",
     "height": 371
    },
    "id": "h_d4L91VGY3h",
    "outputId": "ab263490-b6cd-4217-98f4-e07a23462fd4"
   },
   "outputs": [],
   "source": [
    "print(\"Samples in train set with outliers: {}\".format(len(data)))\n",
    "q1 = data.cnt.quantile(0.25)\n",
    "q3 = data.cnt.quantile(0.75)\n",
    "iqr = q3 - q1\n",
    "lower_bound = q1 -(1.5 * iqr) \n",
    "upper_bound = q3 +(1.5 * iqr) \n",
    "data_without_outlier = data.loc[(data.cnt >= lower_bound) & (data.cnt <= upper_bound)]\n",
    "print(\"Samples in train set without outliers: {}\".format(len(data_without_outlier)))\n",
    "\n",
    "sns.distplot(data_without_outlier.cnt);\n"
   ]
  },
  {
   "cell_type": "code",
   "execution_count": null,
   "metadata": {
    "id": "VLlgCkQ_-MtC"
   },
   "outputs": [],
   "source": [
    "data = data_without_outlier"
   ]
  },
  {
   "cell_type": "markdown",
   "metadata": {
    "id": "A6fchBbOm1HX"
   },
   "source": [
    "#**Correlation Analysis**"
   ]
  },
  {
   "cell_type": "code",
   "execution_count": null,
   "metadata": {
    "colab": {
     "base_uri": "https://localhost:8080/",
     "height": 614
    },
    "id": "pfsXRn-RoQGQ",
    "outputId": "ab8c884a-e6e4-42f7-83c6-01796c9054a5"
   },
   "outputs": [],
   "source": [
    "matrix = data[number_features + ['cnt']].corr()\n",
    "heat = np.array(matrix)\n",
    "heat[np.tril_indices_from(heat)] = False\n",
    "fig,ax= plt.subplots()\n",
    "fig.set_size_inches(20,10)\n",
    "sns.heatmap(matrix, mask=heat,vmax=1.0, vmin=0.0, square=True,annot=True, cmap=\"Reds\")"
   ]
  },
  {
   "cell_type": "markdown",
   "metadata": {
    "id": "mgBwxlSv-SHJ"
   },
   "source": [
    "#**Rename columns to make them more meaningful and readable**\n"
   ]
  },
  {
   "cell_type": "code",
   "execution_count": null,
   "metadata": {
    "colab": {
     "base_uri": "https://localhost:8080/",
     "height": 364
    },
    "id": "mgau0V8lDds_",
    "outputId": "60b7d547-2b80-49e4-9ce3-8409c6ff47e1"
   },
   "outputs": [],
   "source": [
    "data = data.rename(columns={'yr':'year',\n",
    "                            'mnth':'month',\n",
    "                            'weathersit':'weather',\n",
    "                            'hr':'hour',\n",
    "                            'hum':'humidity',\n",
    "                            'cnt':'count'})\n",
    "data.describe()"
   ]
  },
  {
   "cell_type": "markdown",
   "metadata": {
    "id": "pONK2PvH-XP7"
   },
   "source": [
    "#**Remove features non necessary**\n"
   ]
  },
  {
   "cell_type": "code",
   "execution_count": null,
   "metadata": {
    "colab": {
     "base_uri": "https://localhost:8080/",
     "height": 206
    },
    "id": "UNNODruhDr11",
    "outputId": "18bc3408-ec14-44a3-cade-5dde6981c30a"
   },
   "outputs": [],
   "source": [
    "data = data.drop(columns=['instant','dteday','year','casual','registered','atemp'])\n",
    "data.head()"
   ]
  },
  {
   "cell_type": "markdown",
   "metadata": {
    "id": "T9OWppNN-d1E"
   },
   "source": [
    "#**Dataset normalization**"
   ]
  },
  {
   "cell_type": "code",
   "execution_count": null,
   "metadata": {
    "id": "CieKoV2JD3lR"
   },
   "outputs": [],
   "source": [
    "data = preprocessing.normalize(data)"
   ]
  },
  {
   "cell_type": "code",
   "execution_count": null,
   "metadata": {
    "colab": {
     "base_uri": "https://localhost:8080/",
     "height": 206
    },
    "id": "SuZCn6V8EDOb",
    "outputId": "92dcc763-07c4-4f1d-be74-b0688a27399e"
   },
   "outputs": [],
   "source": [
    "data =pd.DataFrame(data,columns=['season','month','hour','holiday','weekday','workingday','weather','temp','humidity','windspeed','count'])\n",
    "data.head()"
   ]
  },
  {
   "cell_type": "markdown",
   "metadata": {
    "id": "4AkeWtguEW-5"
   },
   "source": [
    "#**Implementation**"
   ]
  },
  {
   "cell_type": "code",
   "execution_count": null,
   "metadata": {
    "colab": {
     "base_uri": "https://localhost:8080/"
    },
    "id": "F9br1erS4BrC",
    "outputId": "7b82dec6-0b27-4038-afd6-74444ccdb1d5"
   },
   "outputs": [],
   "source": [
    "data =pd.DataFrame(data,columns=['season','month','hour','holiday','weekday','workingday','weather','temp','humidity','windspeed','count'])\n",
    "y = data['count'] # Outputs\n",
    "data = data.drop(columns=['count']) # Remove the colon of outputs from datasets\n",
    "print(\"Data shape : \", data.shape)\n",
    "print(\"Target shape : \", y.shape)"
   ]
  },
  {
   "cell_type": "code",
   "execution_count": null,
   "metadata": {
    "colab": {
     "base_uri": "https://localhost:8080/"
    },
    "id": "zorvnxExE4rv",
    "outputId": "dce99718-168c-4851-897c-66e626520717"
   },
   "outputs": [],
   "source": [
    "#regler les demesions de y\n",
    "y = np.array(y.values)\n",
    "y =y.reshape(data.shape[0],1)\n",
    "print(y.shape)\n"
   ]
  },
  {
   "cell_type": "code",
   "execution_count": null,
   "metadata": {
    "colab": {
     "base_uri": "https://localhost:8080/"
    },
    "id": "NxsBdHd8FLqL",
    "outputId": "2f31f091-4c9f-440c-92cc-4ca2f66e95ae"
   },
   "outputs": [],
   "source": [
    "#Add the bias column for our dataset\n",
    "data = np.hstack((data,np.ones([data.shape[0],1])))\n",
    "data.shape"
   ]
  },
  {
   "cell_type": "markdown",
   "metadata": {
    "id": "mlI5cOcgoeoX"
   },
   "source": [
    "**Conclusion:** At the end of the descriptive analysis chapter, we can note the following points:\n",
    "\n",
    "- Casual and registered contain direct information about the bike sharing count which is to predict (data leakage). Therefore they are not considered in the feature set.\n",
    "- The variables \"temp\" and \"atemp\" are strongly correlated. To reduce the dimensionality of the predictive model, the feature \"atemp\" is dismissed.\n",
    "The variables \"hr\" and \"temp\" seem to be promising features for the bike sharing count prediction.\n"
   ]
  },
  {
   "cell_type": "markdown",
   "metadata": {
    "id": "kakelTgoEaTu"
   },
   "source": [
    "#**MODEL BUILDING**"
   ]
  },
  {
   "cell_type": "code",
   "execution_count": null,
   "metadata": {
    "id": "-YvyZfqD-N8B"
   },
   "outputs": [],
   "source": [
    "Matrice_Models = []"
   ]
  },
  {
   "cell_type": "markdown",
   "metadata": {
    "id": "m4-iVXNDAlej"
   },
   "source": [
    "#**Split Dataset into TrainSets, TestSets** "
   ]
  },
  {
   "cell_type": "code",
   "execution_count": null,
   "metadata": {
    "id": "U6CSTIdXB_AB"
   },
   "outputs": [],
   "source": [
    "x_train,x_rest,y_train,y_rest = train_test_split(data,y,test_size = 0.40 ,random_state = 0)\n",
    "x_valid,x_test,y_valid,y_test = train_test_split(data,y,test_size = 0.50 ,random_state = 0)"
   ]
  },
  {
   "cell_type": "code",
   "execution_count": null,
   "metadata": {
    "id": "2E32strL-G-R"
   },
   "outputs": [],
   "source": [
    "y_train = np.array(y_train)\n",
    "y_train = y_train.reshape(y_train.shape[0],1)\n",
    "y_valid = np.array(y_valid)\n",
    "y_valid = y_valid.reshape(y_valid.shape[0],1)\n",
    "y_test = np.array(y_test)\n",
    "y_test = y_test.reshape(y_test.shape[0],1)"
   ]
  },
  {
   "cell_type": "markdown",
   "metadata": {
    "id": "opPMaVTB7mZA"
   },
   "source": [
    "# **Lineaire Regression**"
   ]
  },
  {
   "cell_type": "code",
   "execution_count": null,
   "metadata": {
    "id": "Oir5K8bx7oBo"
   },
   "outputs": [],
   "source": [
    "Theta = np.random.randn(x_train.shape[1],1)"
   ]
  },
  {
   "cell_type": "code",
   "execution_count": null,
   "metadata": {
    "id": "lrIRI5iC818q"
   },
   "outputs": [],
   "source": [
    "def model(X,theta):\n",
    "  return X.dot(theta)"
   ]
  },
  {
   "cell_type": "code",
   "execution_count": null,
   "metadata": {
    "id": "rCtFIxik866o"
   },
   "outputs": [],
   "source": [
    "def cost_function(X,y,theta):\n",
    "  m = len(y)\n",
    "  return 1/2*m * np.sum((model(X,theta) - y)**2)"
   ]
  },
  {
   "cell_type": "code",
   "execution_count": null,
   "metadata": {
    "colab": {
     "base_uri": "https://localhost:8080/"
    },
    "id": "-j9pvRhf9Izz",
    "outputId": "2aba7964-14e5-4a50-c8f6-82c3c87d10ac"
   },
   "outputs": [],
   "source": [
    "cost_function(x_train,y_train,Theta)"
   ]
  },
  {
   "cell_type": "code",
   "execution_count": null,
   "metadata": {
    "id": "yS4WgM6lCtwW"
   },
   "outputs": [],
   "source": [
    "def grad(X,y,theta):\n",
    "  m = len(y)\n",
    "  return 1/m * X.T.dot(model(X,theta) - y)"
   ]
  },
  {
   "cell_type": "code",
   "execution_count": null,
   "metadata": {
    "id": "6AUUurbeC1Yo"
   },
   "outputs": [],
   "source": [
    "def gradient_decent(X,y,theta, learning_rate, n_iteration):\n",
    "  cost_history = np.zeros(n_iteration)\n",
    "  for i in range(0,n_iteration):\n",
    "    theta = theta - learning_rate * grad(X,y,theta)\n",
    "    cost_history[i] = cost_function(X,y,theta)\n",
    "  return theta, cost_history"
   ]
  },
  {
   "cell_type": "code",
   "execution_count": null,
   "metadata": {
    "id": "Gu2A9H0qkggO"
   },
   "outputs": [],
   "source": [
    "def coef_determoination(y,pred):\n",
    "  y = np.array(y)\n",
    "  pred = np.array(pred)\n",
    "  u = ((y- pred)**2).sum()\n",
    "  v = ((y-y.mean())**2).sum()\n",
    "  return 1 - u/v"
   ]
  },
  {
   "cell_type": "code",
   "execution_count": null,
   "metadata": {
    "colab": {
     "base_uri": "https://localhost:8080/"
    },
    "id": "0pScoYOlEZLJ",
    "outputId": "37ef34a8-afb8-4a1c-f2c6-e927024cd2de"
   },
   "outputs": [],
   "source": [
    "print(x_train.shape)\n",
    "print(Theta.shape)"
   ]
  },
  {
   "cell_type": "code",
   "execution_count": null,
   "metadata": {
    "id": "k9xeuLaZC52R"
   },
   "outputs": [],
   "source": [
    "Iterations = [2000, 1000, 1000]\n",
    "LR = [0.7, 0.09, 0.3]\n",
    "i = 0\n",
    "for iteration, learningRate in zip(Iterations, LR):\n",
    "  i = i+1\n",
    "  Theta__Final, cost_history = gradient_decent(x_train,y_train,Theta,learning_rate=LR,n_iteration=Iterations)\n",
    "  y_pred_train = model(x_train,Theta__Final)   \n",
    "  y_pred_valid = model(x_valid,Theta__Final)\n",
    "  y_pred_test = model(x_test,Theta__Final) \n",
    "  # Calculation of Mean Squared Error (MSE)mean_squared_error(Y_true,Y_pred)\n",
    "  print('Training coef_determoination ',i,':', coef_determoination(y_train, y_pred_train))\n",
    "  print('Validation coef_determoination ',i,':', coef_determoination(y_valid, y_pred_valid))\n",
    "  print('Test coef_determoination ',i,':', coef_determoination(y_test, y_pred_test))\n",
    "  score_gradient_decent = coef_determoination(y_test, y_pred_test)*100\n"
   ]
  },
  {
   "cell_type": "code",
   "execution_count": null,
   "metadata": {
    "id": "MzGBUquUFGzQ"
   },
   "outputs": [],
   "source": [
    "plt.plot(range(10000), cost_history)"
   ]
  },
  {
   "cell_type": "markdown",
   "metadata": {
    "id": "hSLjeYy212nE"
   },
   "source": [
    "#**Normal Equation in Linear Regression**"
   ]
  },
  {
   "cell_type": "code",
   "execution_count": null,
   "metadata": {
    "id": "AyQfaU9g13XI"
   },
   "outputs": [],
   "source": [
    "theta_best_values=np.linalg.inv(x_train.T.dot(x_train)).dot((x_train.T).dot(y_train))\n",
    "print(x_train.shape)\n",
    "print(x_train.T.shape)\n",
    "print(x_train.T.dot(x_train).shape)\n",
    "print(np.linalg.inv(x_train.T.dot(x_train)).shape)\n",
    "print(x_train.T.dot(y_train).shape)\n",
    "# Display best values obtained.\n",
    "print(theta_best_values)"
   ]
  },
  {
   "cell_type": "code",
   "execution_count": null,
   "metadata": {
    "id": "qBkPg0jn3FwZ"
   },
   "outputs": [],
   "source": [
    "y_pred_train = model(x_train,theta_best_values)  \n",
    "y_pred_valid = model(x_valid,theta_best_values)  \n",
    "y_pred_test = model(x_test,theta_best_values)  "
   ]
  },
  {
   "cell_type": "code",
   "execution_count": null,
   "metadata": {
    "id": "YdyYhIFX3Nl8"
   },
   "outputs": [],
   "source": [
    "# Calculation of Mean Squared Error (MSE)mean_squared_error(Y_true,Y_pred)\n",
    "print('Training coef_determoination :', coef_determoination(y_train, y_pred_train))\n",
    "print('Validation coef_determoination :', coef_determoination(y_valid, y_pred_valid))\n",
    "print('Test coef_determoination :', coef_determoination(y_test, y_pred_test))\n",
    "score_equation_normal = coef_determoination(y_test, y_pred_test)*100"
   ]
  },
  {
   "cell_type": "markdown",
   "metadata": {
    "id": "u7M8do7NYJ_C"
   },
   "source": [
    "********************************************************************************************"
   ]
  },
  {
   "cell_type": "markdown",
   "metadata": {
    "id": "NIfDT6avVCP4"
   },
   "source": [
    "#**Polynomial regression using Sklearn**"
   ]
  },
  {
   "cell_type": "code",
   "execution_count": null,
   "metadata": {
    "id": "JQ0s4jVLeyGr"
   },
   "outputs": [],
   "source": [
    "polynomial_features = PolynomialFeatures(degree=3)\n",
    "\n",
    "x_poly = polynomial_features.fit_transform(x_train)\n",
    "x_poly_valid = polynomial_features.fit_transform(x_valid)\n",
    "x_poly_test = polynomial_features.fit_transform(x_test)\n",
    "\n",
    "LinearRegression = LinearRegression()\n",
    "LinearRegression.fit(x_poly, y_train)\n",
    "Y_pred = LinearRegression.predict(x_poly_test)\n",
    "# Calculation of Mean Squared Error (MSE)mean_squared_error(Y_true,Y_pred)\n",
    "print('Training coef_determoination :', LinearRegression.score(x_poly,y_train))\n",
    "print('Validation coef_determoination :', LinearRegression.score(x_poly_valid,y_valid))\n",
    "print('Test coef_determoination :', LinearRegression.score(x_poly_test,y_test))\n",
    "score_polynomial_regression = LinearRegression.score(x_poly_test,y_test)*100"
   ]
  },
  {
   "cell_type": "code",
   "execution_count": null,
   "metadata": {
    "id": "HKws-Aa3rGkC"
   },
   "outputs": [],
   "source": [
    "from sklearn.linear_model import LinearRegression\n",
    "polynomial_features = PolynomialFeatures(degree=5)\n",
    "\n",
    "x_poly = polynomial_features.fit_transform(x_train)\n",
    "x_poly_valid = polynomial_features.fit_transform(x_valid)\n",
    "x_poly_test = polynomial_features.fit_transform(x_test)\n",
    "\n",
    "LinearRegression = LinearRegression()\n",
    "LinearRegression.fit(x_poly, y_train)\n",
    "Y_pred = LinearRegression.predict(x_poly_test)\n",
    "# Calculation of Mean Squared Error (MSE)mean_squared_error(Y_true,Y_pred)\n",
    "print('Training coef_determoination :', LinearRegression.score(x_poly,y_train))\n",
    "print('Validation coef_determoination :', LinearRegression.score(x_poly_valid,y_valid))\n",
    "print('Test coef_determoination :', LinearRegression.score(x_poly_test,y_test))\n",
    "score_polynomial_regression = LinearRegression.score(x_poly_test,y_test)*100"
   ]
  },
  {
   "cell_type": "markdown",
   "metadata": {
    "id": "5GmHJ3mzwpKq"
   },
   "source": [
    "********************************************************************************************"
   ]
  },
  {
   "cell_type": "markdown",
   "metadata": {
    "id": "oFkhfQTopvFy"
   },
   "source": [
    "#**SVR**"
   ]
  },
  {
   "cell_type": "code",
   "execution_count": null,
   "metadata": {
    "id": "ZXefAxWFpugM"
   },
   "outputs": [],
   "source": [
    "modelsk = SVR(C=100)\n",
    "modelsk.fit(x_train,y_train)\n",
    "print('Training coef_determoination :', modelsk.score(x_train,y_train))\n",
    "print('Validation coef_determoination :', modelsk.score(x_valid,y_valid))\n",
    "print('Test coef_determoination :', modelsk.score(x_test,y_test))\n",
    "score_svr = modelsk.score(x_test,y_test)*100"
   ]
  },
  {
   "cell_type": "markdown",
   "metadata": {
    "id": "8ZZrNg4gdGmU"
   },
   "source": [
    "#**ANN**"
   ]
  },
  {
   "cell_type": "code",
   "execution_count": null,
   "metadata": {
    "id": "V-mhl2pG9Ncs"
   },
   "outputs": [],
   "source": [
    "from sklearn.neural_network import MLPRegressor\n",
    "regr = MLPRegressor((150,150,150), random_state=1, max_iter=100).fit(x_train, y_train)\n",
    "print('Training coef_determoination :', regr.score(x_train, y_train))\n",
    "print('Validation coef_determoination :', regr.score(x_valid, y_valid))\n",
    "print('Test coef_determoination :', regr.score(x_test, y_test))\n",
    "score_ann = regr.score(x_test,y_test)*100"
   ]
  },
  {
   "cell_type": "code",
   "execution_count": null,
   "metadata": {
    "id": "dXbYvR64uGPQ"
   },
   "outputs": [],
   "source": [
    "from sklearn.neural_network import MLPRegressor\n",
    "regr = MLPRegressor((150), random_state=1, max_iter=100).fit(x_train, y_train)\n",
    "print('Training coef_determoination :', regr.score(x_train, y_train))\n",
    "print('Validation coef_determoination :', regr.score(x_valid, y_valid))\n",
    "print('Test coef_determoination :', regr.score(x_test, y_test))\n",
    "score_ann = regr.score(x_test,y_test)*100"
   ]
  },
  {
   "cell_type": "code",
   "execution_count": null,
   "metadata": {
    "id": "EwU5uYfb0JzO"
   },
   "outputs": [],
   "source": [
    "Scores = [score_gradient_decent, score_equation_normal, score_polynomial_regression, score_svr, score_ann] \n",
    "Scores"
   ]
  },
  {
   "cell_type": "code",
   "execution_count": null,
   "metadata": {
    "id": "Cze_JpeWxXYi"
   },
   "outputs": [],
   "source": [
    "import matplotlib.pyplot as plt \n",
    "  \n",
    "# x-coordinates of left sides of bars  \n",
    "x = [1, 2, 3, 4, 5]  \n",
    "# heights of bars \n",
    "y = [score_gradient_decent, score_equation_normal, score_polynomial_regression, score_svr, score_ann] \n",
    "  \n",
    "# labels for bars \n",
    "tick_label =  [\"GD\", \"EN\", \"POL\", \"SVR\", \"ANN\"] \n",
    "  \n",
    "# plotting a bar chart \n",
    "plt.bar(x, y, tick_label = tick_label, \n",
    "        width = 0.5, color = ['black', 'black','black','black','red']) \n",
    "  \n",
    "# naming the x-axis \n",
    "plt.xlabel('Models') \n",
    "# naming the y-axis \n",
    "plt.ylabel('Scores') \n",
    "# plot title \n",
    "plt.title('Models Comparaison') \n",
    "  \n",
    "# function to show the plot \n",
    "plt.show()"
   ]
  },
  {
   "cell_type": "markdown",
   "metadata": {
    "id": "WUvF7vWA6WjB"
   },
   "source": [
    "#**Experience without Preprocessing phase**"
   ]
  },
  {
   "cell_type": "code",
   "execution_count": null,
   "metadata": {
    "id": "g0qlkezH6cpj"
   },
   "outputs": [],
   "source": [
    "dataNP = pd.read_csv('hour.csv')\n",
    "dataNP"
   ]
  },
  {
   "cell_type": "code",
   "execution_count": null,
   "metadata": {
    "id": "SHj_PB7y6g8A"
   },
   "outputs": [],
   "source": [
    "category_features = ['season', 'holiday', 'mnth', 'hr', 'weekday', 'workingday', 'weathersit']\n",
    "number_features = ['temp', 'atemp', 'hum', 'windspeed']"
   ]
  },
  {
   "cell_type": "code",
   "execution_count": null,
   "metadata": {
    "id": "TgWO6ry7BV3E"
   },
   "outputs": [],
   "source": [
    "print(\"Samples in train set with outliers: {}\".format(len(dataNP)))\n",
    "q1 = dataNP.cnt.quantile(0.25)\n",
    "q3 = dataNP.cnt.quantile(0.75)\n",
    "iqr = q3 - q1\n",
    "lower_bound = q1 -(1.5 * iqr) \n",
    "upper_bound = q3 +(1.5 * iqr) \n",
    "data_without_outlier = dataNP.loc[(dataNP.cnt >= lower_bound) & (dataNP.cnt <= upper_bound)]\n",
    "print(\"Samples in train set without outliers: {}\".format(len(data_without_outlier)))\n",
    "\n",
    "sns.distplot(data_without_outlier.cnt);\n"
   ]
  },
  {
   "cell_type": "code",
   "execution_count": null,
   "metadata": {
    "id": "Q4PKbDor6q-N"
   },
   "outputs": [],
   "source": [
    "dataNP = dataNP.rename(columns={'yr':'year',\n",
    "                            'mnth':'month',\n",
    "                            'weathersit':'weather',\n",
    "                            'hr':'hour',\n",
    "                            'hum':'humidity',\n",
    "                            'cnt':'count'})"
   ]
  },
  {
   "cell_type": "code",
   "execution_count": null,
   "metadata": {
    "id": "VFbP4ClS6xEy"
   },
   "outputs": [],
   "source": [
    "dataNP =pd.DataFrame(dataNP,columns=['season','month','hour','holiday','weekday','workingday','weather','temp','humidity','windspeed','count'])\n",
    "dataNP.head()"
   ]
  },
  {
   "cell_type": "code",
   "execution_count": null,
   "metadata": {
    "id": "kgifXCvpBY0F"
   },
   "outputs": [],
   "source": [
    "dataNP = data_without_outlier"
   ]
  },
  {
   "cell_type": "code",
   "execution_count": null,
   "metadata": {
    "id": "YRD-QB-_88hO"
   },
   "outputs": [],
   "source": [
    "dataNP = np.array(dataNP)"
   ]
  },
  {
   "cell_type": "code",
   "execution_count": null,
   "metadata": {
    "id": "xwK5v3Q8642y"
   },
   "outputs": [],
   "source": [
    "yNP = dataNP[:,-1] # Outputs\n",
    "dataNP = dataNP[:,:-2] # Remove the coloumn of outputs from datasets\n",
    "print(\"Data shape : \", dataNP.shape)\n",
    "print(\"Target shape : \", yNP.shape)"
   ]
  },
  {
   "cell_type": "code",
   "execution_count": null,
   "metadata": {
    "id": "5N4gj44s7CV3"
   },
   "outputs": [],
   "source": [
    "#regler les demesions de y\n",
    "yNP = np.array(yNP)\n",
    "yNP =yNP.reshape(dataNP.shape[0],1)\n",
    "print(yNP.shape)"
   ]
  },
  {
   "cell_type": "code",
   "execution_count": null,
   "metadata": {
    "id": "H6VYxwId7EVy"
   },
   "outputs": [],
   "source": [
    "#Add the bias column for our dataset\n",
    "dataNP = np.hstack((data,np.ones([data.shape[0],1])))\n",
    "dataNP.shape"
   ]
  },
  {
   "cell_type": "code",
   "execution_count": null,
   "metadata": {
    "id": "SN5A5Tl77G4_"
   },
   "outputs": [],
   "source": [
    "x_trainNP,x_restNP,y_trainNP,y_restNP = train_test_split(dataNP,yNP,test_size = 0.40 ,random_state = 0)\n",
    "x_validNP,x_testNP,y_validNP,y_testNP = train_test_split(dataNP,yNP,test_size = 0.50 ,random_state = 0)"
   ]
  },
  {
   "cell_type": "code",
   "execution_count": null,
   "metadata": {
    "id": "xjx_5gHM7VQC"
   },
   "outputs": [],
   "source": [
    "y_trainNP = np.array(y_trainNP)\n",
    "y_trainNP = y_trainNP.reshape(y_trainNP.shape[0],1)\n",
    "y_validNP = np.array(y_validNP)\n",
    "y_validNP = y_validNP.reshape(y_validNP.shape[0],1)\n",
    "y_testNP = np.array(y_testNP)\n",
    "y_testNP = y_testNP.reshape(y_testNP.shape[0],1)"
   ]
  },
  {
   "cell_type": "markdown",
   "metadata": {
    "id": "YLhNIBsa7iIG"
   },
   "source": [
    "#**Lineaire Regression**"
   ]
  },
  {
   "cell_type": "code",
   "execution_count": null,
   "metadata": {
    "id": "QxnVHqNz7jrq"
   },
   "outputs": [],
   "source": [
    "ThetaNP = np.random.randn(x_trainNP.shape[1],1)"
   ]
  },
  {
   "cell_type": "code",
   "execution_count": null,
   "metadata": {
    "id": "94uyg6Sl7nRK"
   },
   "outputs": [],
   "source": [
    "cost_function(x_trainNP,y_trainNP,ThetaNP)"
   ]
  },
  {
   "cell_type": "code",
   "execution_count": null,
   "metadata": {
    "id": "wnneBg4N7th0"
   },
   "outputs": [],
   "source": [
    "print(x_trainNP.shape)\n",
    "print(ThetaNP.shape)"
   ]
  },
  {
   "cell_type": "code",
   "execution_count": null,
   "metadata": {
    "id": "OhUXX2Rw7wG_"
   },
   "outputs": [],
   "source": [
    "Theta__FinalNP, cost_historyNP = gradient_decent(x_trainNP,y_trainNP,ThetaNP,learning_rate=0.7,n_iteration=10000)"
   ]
  },
  {
   "cell_type": "code",
   "execution_count": null,
   "metadata": {
    "id": "rikDkRey72tj"
   },
   "outputs": [],
   "source": [
    "y_pred_trainNP = model(x_trainNP,Theta__FinalNP)   \n",
    "y_pred_validNP = model(x_validNP,Theta__FinalNP)\n",
    "y_pred_testNP = model(x_testNP,Theta__FinalNP) "
   ]
  },
  {
   "cell_type": "code",
   "execution_count": null,
   "metadata": {
    "id": "6zp7dVf178pu"
   },
   "outputs": [],
   "source": [
    "plt.plot(range(10000), cost_historyNP)"
   ]
  },
  {
   "cell_type": "code",
   "execution_count": null,
   "metadata": {
    "id": "sMOgB9_W8C0K"
   },
   "outputs": [],
   "source": [
    "# Calculation of Mean Squared Error (MSE)mean_squared_error(Y_true,Y_pred)\n",
    "print('Training coef_determoination :', coef_determoination(y_trainNP, y_pred_trainNP))\n",
    "print('Validation coef_determoination :', coef_determoination(y_validNP, y_pred_validNP))\n",
    "print('Test coef_determoination :', coef_determoination(y_testNP, y_pred_testNP))\n",
    "score_gradient_decentNP = coef_determoination(y_testNP, y_pred_testNP)*100"
   ]
  },
  {
   "cell_type": "markdown",
   "metadata": {
    "id": "5IjtPtbcD4J0"
   },
   "source": [
    "#**Polynomial regression using Sklearn**"
   ]
  },
  {
   "cell_type": "code",
   "execution_count": null,
   "metadata": {
    "id": "hKykZ8sXD7WF"
   },
   "outputs": [],
   "source": [
    "from sklearn.linear_model import LinearRegression\n",
    "\n",
    "polynomial_features = PolynomialFeatures(degree=3)\n",
    "x_polyNP = polynomial_features.fit_transform(x_trainNP)\n",
    "x_poly_validNP = polynomial_features.fit_transform(x_validNP)\n",
    "x_poly_testNP = polynomial_features.fit_transform(x_testNP)\n",
    "\n",
    "LinearRegressionNP = LinearRegression()\n",
    "LinearRegressionNP.fit(x_polyNP, y_trainNP)\n",
    "Y_predNP = LinearRegressionNP.predict(x_poly_testNP)\n",
    "# Calculation of Mean Squared Error (MSE)mean_squared_error(Y_true,Y_pred)\n",
    "print('Training coef_determoination :', LinearRegressionNP.score(x_polyNP,y_trainNP))\n",
    "print('Validation coef_determoination :', LinearRegressionNP.score(x_poly_validNP,y_validNP))\n",
    "print('Test coef_determoination :', LinearRegressionNP.score(x_poly_testNP,y_testNP))\n",
    "score_polynomial_regression = LinearRegressionNP.score(x_poly_testNP,y_testNP)*100"
   ]
  },
  {
   "cell_type": "markdown",
   "metadata": {
    "id": "4QSiiJ6FETug"
   },
   "source": [
    "#**SVR**"
   ]
  },
  {
   "cell_type": "code",
   "execution_count": null,
   "metadata": {
    "id": "mj0Q8VJ5ETJ_"
   },
   "outputs": [],
   "source": [
    "modelsk = SVR(C=100)\n",
    "modelsk.fit(x_trainNP,y_trainNP)\n",
    "print('Training coef_determoination :', modelsk.score(x_trainNP,y_trainNP))\n",
    "print('Validation coef_determoination :', modelsk.score(x_validNP,y_validNP))\n",
    "print('Test coef_determoination :', modelsk.score(x_testNP,y_testNP))\n",
    "score_svr = modelsk.score(x_testNP,y_testNP)*100"
   ]
  },
  {
   "cell_type": "markdown",
   "metadata": {
    "id": "qa5UjuoyL4Ju"
   },
   "source": [
    "#**ANN**"
   ]
  },
  {
   "cell_type": "code",
   "execution_count": null,
   "metadata": {
    "id": "j5q__HS-GgQE"
   },
   "outputs": [],
   "source": [
    "from sklearn.neural_network import MLPRegressor\n",
    "regr = MLPRegressor((150,150,150), random_state=1, max_iter=100).fit(x_trainNP, y_trainNP)\n",
    "print('Training coef_determoination :', regr.score(x_trainNP, y_trainNP))\n",
    "print('Validation coef_determoination :', regr.score(x_validNP, y_validNP))\n",
    "print('Test coef_determoination :', regr.score(x_testNP, y_testNP))\n",
    "score_ann = regr.score(x_testNP,y_testNP)*100"
   ]
  },
  {
   "cell_type": "markdown",
   "metadata": {
    "id": "WEou6Po98Xq2"
   },
   "source": [
    "#**Normal Equation in Linear Regression**"
   ]
  },
  {
   "cell_type": "code",
   "execution_count": null,
   "metadata": {
    "id": "gNmStph48XH3"
   },
   "outputs": [],
   "source": [
    "theta_best_valuesNP=np.linalg.inv(x_trainNP.T.dot(x_trainNP)).dot((x_trainNP.T).dot(y_trainNP))\n",
    "print(x_trainNP.shape)\n",
    "print(x_trainNP.T.shape)\n",
    "print(x_trainNP.T.dot(x_trainNP).shape)\n",
    "print(np.linalg.inv(x_trainNP.T.dot(x_trainNP)).shape)\n",
    "print(x_trainNP.T.dot(y_trainNP).shape)\n",
    "# Display best values obtained.\n",
    "print(theta_best_valuesNP)\n",
    "y_pred_trainNP = model(x_trainNP,theta_best_valuesNP)  \n",
    "y_pred_validNP = model(x_validNP,theta_best_valuesNP)  \n",
    "y_pred_testNP = model(x_testNP,theta_best_valuesNP)\n",
    "# Calculation of Mean Squared Error (MSE)mean_squared_error(Y_true,Y_pred)\n",
    "print('Training coef_determoination :', coef_determoination(y_trainNP, y_pred_trainNP))\n",
    "print('Validation coef_determoination :', coef_determoination(y_validNP, y_pred_validNP))\n",
    "print('Test coef_determoination :', coef_determoination(y_testNP, y_pred_testNP))\n",
    "score_equation_normal = coef_determoination(y_testNP, y_pred_testNP)*100 "
   ]
  },
  {
   "cell_type": "code",
   "execution_count": null,
   "metadata": {
    "id": "9jI5EU_27BzJ"
   },
   "outputs": [],
   "source": []
  },
  {
   "cell_type": "code",
   "execution_count": null,
   "metadata": {
    "id": "IAqx_1a77JKU"
   },
   "outputs": [],
   "source": []
  }
 ],
 "metadata": {
  "colab": {
   "collapsed_sections": [],
   "name": "Regression-problem",
   "provenance": []
  },
  "kernelspec": {
   "display_name": "Python 3 (ipykernel)",
   "language": "python",
   "name": "python3"
  },
  "language_info": {
   "codemirror_mode": {
    "name": "ipython",
    "version": 3
   },
   "file_extension": ".py",
   "mimetype": "text/x-python",
   "name": "python",
   "nbconvert_exporter": "python",
   "pygments_lexer": "ipython3",
   "version": "3.9.7"
  }
 },
 "nbformat": 4,
 "nbformat_minor": 1
}
