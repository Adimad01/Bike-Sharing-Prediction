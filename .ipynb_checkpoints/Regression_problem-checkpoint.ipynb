{
 "cells": [
  {
   "cell_type": "markdown",
   "metadata": {
    "id": "1lSRDxvnCM0Q"
   },
   "source": [
    "#**Import Libraries, Models ...**"
   ]
  },
  {
   "cell_type": "code",
   "execution_count": null,
   "metadata": {
    "id": "G0Ra7yw47YU7"
   },
   "outputs": [],
   "source": [
    "import numpy as np\n",
    "import matplotlib.pyplot as plt\n",
    "import pandas as pd\n",
    "import seaborn as sns\n",
    "from sklearn.preprocessing import RobustScaler\n",
    "from sklearn.metrics import confusion_matrix\n",
    "from sklearn.metrics import accuracy_score\n",
    "from sklearn.metrics import classification_report\n",
    "from sklearn.model_selection import train_test_split\n",
    "from sklearn.metrics import accuracy_score\n",
    "from sklearn import preprocessing\n",
    "from prettytable import PrettyTable\n",
    "from sklearn.preprocessing import MinMaxScaler\n",
    "# Sklearn model delection\n",
    "from sklearn.model_selection import RandomizedSearchCV\n",
    "# Sklearn metrics\n",
    "from sklearn.metrics import mean_squared_error, mean_squared_log_error, mean_absolute_error\n",
    "# Sklearn models\n",
    "from sklearn.tree import DecisionTreeClassifier\n",
    "from sklearn.tree import DecisionTreeRegressor \n",
    "from sklearn.linear_model import Lasso, ElasticNet, Ridge, SGDRegressor\n",
    "from sklearn.svm import SVR, NuSVR\n",
    "from sklearn.ensemble import BaggingRegressor, RandomForestRegressor\n",
    "from sklearn.neighbors import KNeighborsClassifier\n",
    "from sklearn.cluster import KMeans\n",
    "from sklearn.ensemble import RandomForestClassifier\n",
    "from sklearn.ensemble import GradientBoostingClassifier\n",
    "from sklearn.linear_model import LinearRegression\n"
   ]
  },
  {
   "cell_type": "code",
   "execution_count": null,
   "metadata": {
    "colab": {
     "base_uri": "https://localhost:8080/",
     "height": 357
    },
    "id": "DqkLbctB63Oc",
    "outputId": "101334bc-0588-4556-9f8d-6d86807afd45"
   },
   "outputs": [],
   "source": [
    "data_day = pd.read_csv('day.csv') \n",
    "data_day.head()"
   ]
  },
  {
   "cell_type": "markdown",
   "metadata": {
    "id": "F1kkTqYQmSFr"
   },
   "source": [
    "Get column names of the pandas data frame:\n",
    "\n"
   ]
  },
  {
   "cell_type": "code",
   "execution_count": null,
   "metadata": {
    "colab": {
     "base_uri": "https://localhost:8080/",
     "height": 364
    },
    "id": "sfYqWzYemUmK",
    "outputId": "8f9df927-755d-4b03-da53-33792ff22e49"
   },
   "outputs": [],
   "source": [
    "data_day.describe()"
   ]
  },
  {
   "cell_type": "markdown",
   "metadata": {
    "id": "4yh2hc1ImXY6"
   },
   "source": [
    "Print the first two samples of the dataset to explore the data:"
   ]
  },
  {
   "cell_type": "code",
   "execution_count": null,
   "metadata": {
    "colab": {
     "base_uri": "https://localhost:8080/"
    },
    "id": "9xLRXH6KmbM9",
    "outputId": "667134f0-24db-4cfe-e6f1-f5e1fae19bfc"
   },
   "outputs": [],
   "source": [
    "data_day.info()"
   ]
  },
  {
   "cell_type": "markdown",
   "metadata": {
    "id": "JR7bf5UtmlTK"
   },
   "source": [
    "Get data statistics for each column:"
   ]
  },
  {
   "cell_type": "code",
   "execution_count": null,
   "metadata": {
    "colab": {
     "base_uri": "https://localhost:8080/"
    },
    "id": "HyePyD6Nmi7l",
    "outputId": "2c3f77af-371d-4637-a6fa-a597cf48fe1d"
   },
   "outputs": [],
   "source": [
    "data_day.apply(lambda x: len(x.unique()))"
   ]
  },
  {
   "cell_type": "markdown",
   "metadata": {
    "id": "lZXVnlfMDQfV"
   },
   "source": [
    "#**PRE-PROCESSING PHASE**"
   ]
  },
  {
   "cell_type": "markdown",
   "metadata": {
    "id": "3uVwVwxIj2Db"
   },
   "source": [
    "#**Remove outliers from data**"
   ]
  },
  {
   "cell_type": "code",
   "execution_count": null,
   "metadata": {
    "id": "DX_aMTggGaKg"
   },
   "outputs": [],
   "source": [
    "#print(\"Samples in train set with outliers: {}\".format(len(data_day)))\n",
    "#q1 = data_day.cnt.quantile(0.25)\n",
    "#q3 = data_day.cnt.quantile(0.75)\n",
    "#iqr = q3 - q1\n",
    "#lower_bound = q1 -(1.5 * iqr) \n",
    "#upper_bound = q3 +(1.5 * iqr) \n",
    "#train_preprocessed = data_day.loc[(data_day.cnt >= lower_bound) & (data_day_normalized.cnt <= upper_bound)]\n",
    "#print(\"Samples in train set without outliers: {}\".format(len(train_preprocessed)))\n",
    "#sns.distplot(train_preprocessed.cnt);"
   ]
  },
  {
   "cell_type": "code",
   "execution_count": null,
   "metadata": {
    "colab": {
     "base_uri": "https://localhost:8080/"
    },
    "id": "g7uYXUDBDTXf",
    "outputId": "30ab372a-ab76-4d71-f738-9eb6e05e46d4"
   },
   "outputs": [],
   "source": [
    "#verifier les valeurs null\n",
    "data_day.isnull().sum()"
   ]
  },
  {
   "cell_type": "code",
   "execution_count": null,
   "metadata": {
    "colab": {
     "base_uri": "https://localhost:8080/",
     "height": 357
    },
    "id": "mgau0V8lDds_",
    "outputId": "f447ab63-6c51-45cc-ea38-924ec9088bc7"
   },
   "outputs": [],
   "source": [
    "#rennomer les colonne pour les rendre plus sigificatif et lisible\n",
    "data_day = data_day.rename(columns={'yr':'year',\n",
    "                            'mnth':'month',\n",
    "                            'weathersit':'weather',\n",
    "                            'hr':'hour',\n",
    "                            'hum':'humidity',\n",
    "                            'cnt':'count'})\n",
    "data_day.head()"
   ]
  },
  {
   "cell_type": "code",
   "execution_count": null,
   "metadata": {
    "colab": {
     "base_uri": "https://localhost:8080/",
     "height": 270
    },
    "id": "UNNODruhDr11",
    "outputId": "152cbd23-91f1-4548-9eb6-85e29dc4747d"
   },
   "outputs": [],
   "source": [
    "# supprimer les features non nécessaire \n",
    "data_day = data_day.drop(columns=['instant','dteday','year','casual','registered'])\n",
    "data_day.head()"
   ]
  },
  {
   "cell_type": "code",
   "execution_count": null,
   "metadata": {
    "id": "CieKoV2JD3lR"
   },
   "outputs": [],
   "source": [
    "# normalisation de dataset\n",
    "#scater = RobustScaler()\n",
    "#scater = MinMaxScaler()\n",
    "# from sklearn import preprocessing\n",
    "data_day_normalized = preprocessing.normalize(data_day)\n",
    "# normal = preprocessing.normalized(data)\n",
    "# print(\"Normalized Data = \", normal)\n",
    "# dataN=scater.fit_transform(data)"
   ]
  },
  {
   "cell_type": "code",
   "execution_count": null,
   "metadata": {
    "colab": {
     "base_uri": "https://localhost:8080/",
     "height": 270
    },
    "id": "SuZCn6V8EDOb",
    "outputId": "52e3b87f-3ee0-40d2-be95-ac4fe12d0045"
   },
   "outputs": [],
   "source": [
    "#revoir le head de dataset\n",
    "data_day_normalized =pd.DataFrame(data_day_normalized,columns=['season','month','holiday','weekday','workingday','weather','temp','atemp','humidity','windspeed','count'])\n",
    "data_day_normalized.head()"
   ]
  },
  {
   "cell_type": "markdown",
   "metadata": {
    "id": "4AkeWtguEW-5"
   },
   "source": [
    "#**Implementation**"
   ]
  },
  {
   "cell_type": "code",
   "execution_count": null,
   "metadata": {
    "colab": {
     "base_uri": "https://localhost:8080/"
    },
    "id": "F9br1erS4BrC",
    "outputId": "14e29377-ccd0-49bd-b648-f70843e093e6"
   },
   "outputs": [],
   "source": [
    "y = data_day_normalized['count']\n",
    "data_day_normalized = data_day_normalized.drop(columns=['count'])\n",
    "print(\"Data shape : \", data_day_normalized.shape)\n",
    "print(\"Target shape : \", y.shape)"
   ]
  },
  {
   "cell_type": "code",
   "execution_count": null,
   "metadata": {
    "colab": {
     "base_uri": "https://localhost:8080/"
    },
    "id": "zorvnxExE4rv",
    "outputId": "34c2f71d-e530-47ae-cfd1-290c6e1a75e3"
   },
   "outputs": [],
   "source": [
    "#regler les demesions de y\n",
    "y = np.array(y.values)\n",
    "y =y.reshape(data_day_normalized.shape[0],1)\n",
    "print(y.shape)\n",
    "print(y)"
   ]
  },
  {
   "cell_type": "code",
   "execution_count": null,
   "metadata": {
    "colab": {
     "base_uri": "https://localhost:8080/"
    },
    "id": "NxsBdHd8FLqL",
    "outputId": "bcf9dfaa-b020-4729-d081-60c7b2d68e26"
   },
   "outputs": [],
   "source": [
    "#Ajouter la colonne biais pour notre dataset\n",
    "data_day_normalized = np.hstack((data_day_normalized,np.ones([data_day_normalized.shape[0],1])))\n",
    "data_day_normalized"
   ]
  },
  {
   "cell_type": "markdown",
   "metadata": {
    "id": "uGjroKiejH98"
   },
   "source": [
    "**Interpretation: The working day and holiday box plots indicate that more bicycles are rent during normal working days than on weekends or holidays. Another important factor seems to be the temperature: higher temperatures lead to an increasing number of bike rents and lower temperatures not only decrease the average number of rents but also shows more outliers in the data.**"
   ]
  },
  {
   "cell_type": "markdown",
   "metadata": {
    "id": "4CxWL3TaltoJ"
   },
   "source": [
    "#**Correlation Analysis**"
   ]
  },
  {
   "cell_type": "code",
   "execution_count": null,
   "metadata": {
    "colab": {
     "base_uri": "https://localhost:8080/",
     "height": 613
    },
    "id": "vmK8fBkPlxQm",
    "outputId": "b894a095-6a78-43c6-925f-f7176e0b8631"
   },
   "outputs": [],
   "source": [
    "matrix = train[['temp', 'atemp', 'hum', 'windspeed','cnt']].corr()\n",
    "heat = np.array(matrix)\n",
    "heat[np.tril_indices_from(heat)] = False\n",
    "fig,ax= plt.subplots()\n",
    "fig.set_size_inches(20,10)\n",
    "sns.heatmap(matrix, mask=heat,vmax=1.0, vmin=0.0, square=True,annot=True, cmap=\"Reds\")\n"
   ]
  },
  {
   "cell_type": "markdown",
   "metadata": {
    "id": "mlI5cOcgoeoX"
   },
   "source": [
    "**Conclusion:** At the end of the descriptive analysis chapter, we can note the following points:\n",
    "\n",
    "- Casual and registered contain direct information about the bike sharing count which is to predict (data leakage). Therefore they are not considered in the feature set.\n",
    "- The variables \"temp\" and \"atemp\" are strongly correlated. To reduce the dimensionality of the predictive model, the feature \"atemp\" is dismissed.\n",
    "The variables \"hr\" and \"temp\" seem to be promising features for the bike sharing count prediction.\n"
   ]
  },
  {
   "cell_type": "markdown",
   "metadata": {
    "id": "kakelTgoEaTu"
   },
   "source": [
    "#**MODEL BUILDING**"
   ]
  },
  {
   "cell_type": "markdown",
   "metadata": {
    "id": "opPMaVTB7mZA"
   },
   "source": [
    "# **3- Linaire Regression**"
   ]
  },
  {
   "cell_type": "code",
   "execution_count": null,
   "metadata": {
    "id": "U6CSTIdXB_AB"
   },
   "outputs": [],
   "source": [
    "x_train,x_test,y_train,y_test = train_test_split(data_day_normalized,y,test_size = 0.30 ,random_state = 2)"
   ]
  },
  {
   "cell_type": "code",
   "execution_count": null,
   "metadata": {
    "id": "2E32strL-G-R"
   },
   "outputs": [],
   "source": [
    "y_train = np.array(y_train)\n",
    "y_train = y_train.reshape(y_train.shape[0],1)\n",
    "y_test = np.array(y_test)\n",
    "y_test = y_test.reshape(y_test.shape[0],1)"
   ]
  },
  {
   "cell_type": "code",
   "execution_count": null,
   "metadata": {
    "colab": {
     "base_uri": "https://localhost:8080/"
    },
    "id": "mgs2iabv5Kfu",
    "outputId": "18b4e3e4-8992-4e8d-8c63-cae747a78d50"
   },
   "outputs": [],
   "source": [
    "x_train.shape"
   ]
  },
  {
   "cell_type": "code",
   "execution_count": null,
   "metadata": {
    "colab": {
     "base_uri": "https://localhost:8080/"
    },
    "id": "Oir5K8bx7oBo",
    "outputId": "8298815f-c966-4590-eefe-d0013f700f43"
   },
   "outputs": [],
   "source": [
    "Theta = np.random.randn(x_train.shape[1],1)\n",
    "Theta"
   ]
  },
  {
   "cell_type": "code",
   "execution_count": null,
   "metadata": {
    "id": "lrIRI5iC818q"
   },
   "outputs": [],
   "source": [
    "def model(X,theta):\n",
    "  return X.dot(theta)"
   ]
  },
  {
   "cell_type": "code",
   "execution_count": null,
   "metadata": {
    "id": "rCtFIxik866o"
   },
   "outputs": [],
   "source": [
    "def cost_function(X,y,theta):\n",
    "  m = len(y)\n",
    "  return 1/2*m * np.sum((model(X,theta) - y)**2)"
   ]
  },
  {
   "cell_type": "code",
   "execution_count": null,
   "metadata": {
    "colab": {
     "base_uri": "https://localhost:8080/"
    },
    "id": "-j9pvRhf9Izz",
    "outputId": "fb6328a5-b8ab-443e-e229-c9e36839c067"
   },
   "outputs": [],
   "source": [
    "cost_function(x_train,y_train,Theta)"
   ]
  },
  {
   "cell_type": "code",
   "execution_count": null,
   "metadata": {
    "id": "yS4WgM6lCtwW"
   },
   "outputs": [],
   "source": [
    "def grad(X,y,theta):\n",
    "  m = len(y)\n",
    "  return 1/m * X.T.dot(model(X,theta) - y)"
   ]
  },
  {
   "cell_type": "code",
   "execution_count": null,
   "metadata": {
    "id": "6AUUurbeC1Yo"
   },
   "outputs": [],
   "source": [
    "def gradient_decent(X,y,theta, learning_rate, n_iteration):\n",
    "  cost_history = np.zeros(n_iteration)\n",
    "  for i in range(0,n_iteration):\n",
    "    theta = theta - learning_rate * grad(X,y,theta)\n",
    "    cost_history[i] = cost_function(X,y,theta)\n",
    "  return theta, cost_history"
   ]
  },
  {
   "cell_type": "code",
   "execution_count": null,
   "metadata": {
    "colab": {
     "base_uri": "https://localhost:8080/"
    },
    "id": "0pScoYOlEZLJ",
    "outputId": "76d19c3f-94e2-4535-ec0e-d5ffe2efc7f6"
   },
   "outputs": [],
   "source": [
    "print(x_train.shape)\n",
    "print(Theta.shape)"
   ]
  },
  {
   "cell_type": "code",
   "execution_count": null,
   "metadata": {
    "colab": {
     "base_uri": "https://localhost:8080/"
    },
    "id": "k9xeuLaZC52R",
    "outputId": "85dd5d71-1aba-4504-923a-4a7738046a58"
   },
   "outputs": [],
   "source": [
    "Theta_Final, cost_history = gradient_decent(x_train,y_train,Theta,learning_rate=0.001,n_iteration=1000)\n",
    "Theta_Final"
   ]
  },
  {
   "cell_type": "code",
   "execution_count": null,
   "metadata": {
    "id": "7ssV6BXCE6is"
   },
   "outputs": [],
   "source": [
    "prediction = model(x_test,Theta_Final)   "
   ]
  },
  {
   "cell_type": "code",
   "execution_count": null,
   "metadata": {
    "colab": {
     "base_uri": "https://localhost:8080/",
     "height": 282
    },
    "id": "FIT7oZ0XE_sI",
    "outputId": "0958f6f8-a259-4761-98a1-8d7cda643a6a"
   },
   "outputs": [],
   "source": [
    "plt.plot(range(10000), cost_history)"
   ]
  },
  {
   "cell_type": "markdown",
   "metadata": {
    "id": "17wBm0Hi3_NB"
   },
   "source": [
    "**The coefficient of determination (R² or r-squared) :** is a statistical measure in a regression model that determines the proportion of variance in the dependent variable that can be explained by the independent variable. In other words, the coefficient of determination tells one how well the data fits the model (the goodness of fit)"
   ]
  },
  {
   "cell_type": "code",
   "execution_count": null,
   "metadata": {
    "id": "gKVqLMflFEfA"
   },
   "outputs": [],
   "source": [
    "def coef_determoination(y,pred):\n",
    "  y = np.array(y)\n",
    "  pred = np.array(pred)\n",
    "  u = ((y- pred)**2).sum()\n",
    "  v = ((y-y.mean())**2).sum()\n",
    "  return 1 - u/v"
   ]
  },
  {
   "cell_type": "code",
   "execution_count": null,
   "metadata": {
    "colab": {
     "base_uri": "https://localhost:8080/"
    },
    "id": "MzGBUquUFGzQ",
    "outputId": "d5712afa-525f-46a6-850e-1693013bb9ac"
   },
   "outputs": [],
   "source": [
    "linaireRegression_coef_determoination = coef_determoination(y_test, prediction)\n",
    "print(\"The coefficient of determination :\",linaireRegression_coef_determoination)\n"
   ]
  },
  {
   "cell_type": "markdown",
   "metadata": {
    "id": "u7M8do7NYJ_C"
   },
   "source": [
    "********************************************************************************************"
   ]
  },
  {
   "cell_type": "markdown",
   "metadata": {
    "id": "LU9FFFGGewAH"
   },
   "source": [
    "#**Polynomial Regression**"
   ]
  },
  {
   "cell_type": "code",
   "execution_count": null,
   "metadata": {
    "colab": {
     "base_uri": "https://localhost:8080/"
    },
    "id": "JQ0s4jVLeyGr",
    "outputId": "f9ae54ba-48be-4c15-e6b9-c510ebfeb18a"
   },
   "outputs": [],
   "source": [
    "from sklearn.preprocessing import PolynomialFeatures\n",
    "polynomial_features= PolynomialFeatures(degree=1)\n",
    "x_poly = polynomial_features.fit_transform(x_train)\n",
    "x_poly_test = polynomial_features.fit_transform(x_test)\n",
    "model = LinearRegression()\n",
    "model.fit(x_poly, y_train)\n",
    "y_predicted_p = model.predict(x_poly_test)\n",
    "mse = mean_squared_error(y_test, y_predicted_p)\n",
    "polynomialRegression_coef_determoination = coef_determoination(y_test, y_predicted_p)\n",
    "mae = mean_absolute_error(y_test,y_predicted_p)\n",
    "print(\"Mean Squared Error:\",mse)\n",
    "print(\"The coefficient of determination :\",polynomialRegression_coef_determoination)\n",
    "print(\"Mean Absolute Error:\",mae)"
   ]
  },
  {
   "cell_type": "markdown",
   "metadata": {
    "id": "u-BFENynfCnP"
   },
   "source": [
    "#**Decision Tree**"
   ]
  },
  {
   "cell_type": "code",
   "execution_count": null,
   "metadata": {
    "colab": {
     "base_uri": "https://localhost:8080/"
    },
    "id": "YRP5Uey3fFNj",
    "outputId": "231ef242-d85a-4aed-cbbd-7a2638bca1d9"
   },
   "outputs": [],
   "source": [
    "# Decision Tree\n",
    "from sklearn.tree import DecisionTreeRegressor\n",
    "from sklearn.model_selection import GridSearchCV\n",
    "\n",
    "reg_decision_model=DecisionTreeRegressor()\n",
    "parameters={\"splitter\":[\"best\",\"random\"],\n",
    "            \"max_depth\" : [1,3,5,7,9,11,12],\n",
    "           \"min_samples_leaf\":[1,2,3,4,5,6,7,8,9,10],\n",
    "           \"min_weight_fraction_leaf\":[0.1,0.2,0.3,0.4,0.5,0.6,0.7,0.8,0.9],\n",
    "           \"max_features\":[\"auto\",\"log2\",\"sqrt\",None],\n",
    "           \"max_leaf_nodes\":[None,10,20,30,40,50,60,70,80,90] }\n",
    "tuning_model=GridSearchCV(reg_decision_model,param_grid=parameters,scoring='neg_mean_squared_error',cv=3,verbose=3)\n",
    "def timer(start_time=None):\n",
    "    if not start_time:\n",
    "        start_time=datetime.now()\n",
    "        return start_time\n",
    "    elif start_time:\n",
    "        thour,temp_sec=divmod((datetime.now()-start_time).total_seconds(),3600)\n",
    "        tmin,tsec=divmod(temp_sec,60)\n",
    "        #print(thour,\":\",tmin,':',round(tsec,2))\n",
    "from datetime import datetime\n",
    "\n",
    "start_time=timer(None)\n",
    "\n",
    "tuning_model.fit(x_train,y_train)\n",
    "\n",
    "timer(start_time)\n"
   ]
  },
  {
   "cell_type": "code",
   "execution_count": null,
   "metadata": {
    "id": "UE9xik5WL4MU"
   },
   "outputs": [],
   "source": [
    "print('tuning_model.best_params_: ',tuning_model.best_params_)\n",
    "print('tuning_model.best_score_ : ', tuning_model.best_score_)"
   ]
  },
  {
   "cell_type": "code",
   "execution_count": null,
   "metadata": {
    "id": "OqUgLwc7MHgG"
   },
   "outputs": [],
   "source": [
    "tuned_hyper_model= DecisionTreeRegressor(max_depth=5,max_features='auto',max_leaf_nodes=50,min_samples_leaf=2,min_weight_fraction_leaf=0.1,splitter='random')"
   ]
  },
  {
   "cell_type": "code",
   "execution_count": null,
   "metadata": {
    "id": "GYjjRoILMJgT"
   },
   "outputs": [],
   "source": [
    "tuned_hyper_model.fit(x_train,y_train)"
   ]
  },
  {
   "cell_type": "code",
   "execution_count": null,
   "metadata": {
    "id": "FPVlO1T_MM5X"
   },
   "outputs": [],
   "source": [
    "tuned_pred=tuned_hyper_model.predict(x_test)"
   ]
  },
  {
   "cell_type": "code",
   "execution_count": null,
   "metadata": {
    "id": "ppTSmsb5MSyH"
   },
   "outputs": [],
   "source": [
    "# With hyperparameter tuned \n",
    "\n",
    "from sklearn import metrics\n",
    "\n",
    "print('MAE:', metrics.mean_absolute_error(y_test,tuned_pred))\n",
    "print('MSE:', metrics.mean_squared_error(y_test, tuned_pred))\n",
    "print('RMSE:', np.sqrt(metrics.mean_squared_error(y_test, tuned_pred)))"
   ]
  },
  {
   "cell_type": "code",
   "execution_count": null,
   "metadata": {
    "id": "HIJ8ahWTMZZu"
   },
   "outputs": [],
   "source": [
    "# without hyperparameter tuning \n",
    "\n",
    "from sklearn import metrics\n",
    "\n",
    "print('MAE:', metrics.mean_absolute_error(y_test,prediction))\n",
    "print('MSE:', metrics.mean_squared_error(y_test, prediction))\n",
    "print('RMSE:', np.sqrt(metrics.mean_squared_error(y_test, prediction)))\n"
   ]
  },
  {
   "cell_type": "markdown",
   "metadata": {
    "id": "mnYe9uL2fWAe"
   },
   "source": [
    "#**Random Forest**"
   ]
  },
  {
   "cell_type": "code",
   "execution_count": null,
   "metadata": {
    "id": "wNY9hkmIfXqU"
   },
   "outputs": [],
   "source": [
    "# Random Forest\n",
    "from sklearn.model_selection import GridSearchCV\n",
    "from sklearn.datasets import make_classification\n",
    "from sklearn.ensemble import RandomForestClassifier\n",
    "\n",
    "rfc = RandomForestClassifier(n_jobs=-1,max_features= 'sqrt' ,n_estimators=50, oob_score = True) \n",
    "\n",
    "param_grid = { \n",
    "    'n_estimators': [200, 700],\n",
    "    'max_features': ['auto', 'sqrt', 'log2']\n",
    "}\n",
    "\n",
    "CV_rfc = GridSearchCV(estimator=rfc, param_grid=param_grid, cv= 2)\n",
    "CV_rfc.fit(x_train, y_train)\n",
    "print(CV_rfc.best_params_)\n",
    "\n",
    "y_predicted = CV_rfc.predict(x_test)\n",
    "mse = mean_squared_error(y_test, y_predicted)\n",
    "decisionTree_coef_determoination = coef_determoination(y_test, y_predicted)\n",
    "mae = mean_absolute_error(y_test,y_predicted)\n",
    "print(\"Mean Squared Error:\",mse)\n",
    "print(\"The coefficient of determination :\",decisionTree_coef_determoination)\n",
    "print(\"Mean Absolute Error:\",mae)"
   ]
  },
  {
   "cell_type": "markdown",
   "metadata": {
    "id": "k5DSh0eIA0_u"
   },
   "source": [
    "#**Evaluation**"
   ]
  },
  {
   "cell_type": "code",
   "execution_count": null,
   "metadata": {
    "id": "_TDxWbYRA3ml"
   },
   "outputs": [],
   "source": [
    "objects = ('Linaire Regression', 'Polynomial Regression')\n",
    "y_pos = np.arange(len(objects))\n",
    "performance = [linaireRegression_coef_determoination,polynomialRegression_coef_determoination]\n",
    "\n",
    "plt.bar(y_pos, performance, align='center', alpha=0.9) # alpha: Darkness of the bar\n",
    "plt.xticks(y_pos, objects)\n",
    "plt.xlabel('Models')\n",
    "plt.ylabel('The coefficient of determination')\n",
    "plt.title('Comparison performances')\n",
    "\n",
    "plt.show()"
   ]
  }
 ],
 "metadata": {
  "colab": {
   "collapsed_sections": [],
   "name": "Regression-problem",
   "provenance": []
  },
  "kernelspec": {
   "display_name": "Python 3 (ipykernel)",
   "language": "python",
   "name": "python3"
  },
  "language_info": {
   "codemirror_mode": {
    "name": "ipython",
    "version": 3
   },
   "file_extension": ".py",
   "mimetype": "text/x-python",
   "name": "python",
   "nbconvert_exporter": "python",
   "pygments_lexer": "ipython3",
   "version": "3.9.7"
  }
 },
 "nbformat": 4,
 "nbformat_minor": 1
}
